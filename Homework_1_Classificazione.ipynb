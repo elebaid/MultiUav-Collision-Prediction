{
  "cells": [
    {
      "cell_type": "code",
      "execution_count": null,
      "metadata": {
        "colab": {
          "base_uri": "https://localhost:8080/"
        },
        "id": "pDYbeqZPAqQk",
        "outputId": "e294cbc7-49a0-4d87-e931-5d8616544d4e"
      },
      "outputs": [
        {
          "output_type": "stream",
          "name": "stdout",
          "text": [
            "Libraries imported.\n"
          ]
        }
      ],
      "source": [
        "import numpy as np\n",
        "import pandas as pd\n",
        "import random\n",
        "\n",
        "from sklearn.model_selection import train_test_split\n",
        "from sklearn.feature_extraction.text import *\n",
        "from sklearn.naive_bayes import *\n",
        "from sklearn.metrics import confusion_matrix, classification_report, ConfusionMatrixDisplay\n",
        "\n",
        "#Per linear classification\n",
        "from sklearn.linear_model import Perceptron\n",
        "from sklearn import svm\n",
        "\n",
        "print('Libraries imported.')"
      ]
    },
    {
      "cell_type": "code",
      "source": [
        "!pip install ipython-autotime\n",
        "%load_ext autotime"
      ],
      "metadata": {
        "colab": {
          "base_uri": "https://localhost:8080/"
        },
        "id": "aQ5j9lKfkzdW",
        "outputId": "b9a4e3ff-56f4-4f01-f534-b6b4493f839f"
      },
      "execution_count": null,
      "outputs": [
        {
          "output_type": "stream",
          "name": "stdout",
          "text": [
            "Looking in indexes: https://pypi.org/simple, https://us-python.pkg.dev/colab-wheels/public/simple/\n",
            "Collecting ipython-autotime\n",
            "  Downloading ipython_autotime-0.3.1-py2.py3-none-any.whl (6.8 kB)\n",
            "Requirement already satisfied: ipython in /usr/local/lib/python3.8/dist-packages (from ipython-autotime) (7.9.0)\n",
            "Requirement already satisfied: pickleshare in /usr/local/lib/python3.8/dist-packages (from ipython->ipython-autotime) (0.7.5)\n",
            "Requirement already satisfied: backcall in /usr/local/lib/python3.8/dist-packages (from ipython->ipython-autotime) (0.2.0)\n",
            "Requirement already satisfied: decorator in /usr/local/lib/python3.8/dist-packages (from ipython->ipython-autotime) (4.4.2)\n",
            "Requirement already satisfied: setuptools>=18.5 in /usr/local/lib/python3.8/dist-packages (from ipython->ipython-autotime) (57.4.0)\n",
            "Requirement already satisfied: pygments in /usr/local/lib/python3.8/dist-packages (from ipython->ipython-autotime) (2.6.1)\n",
            "Collecting jedi>=0.10\n",
            "  Downloading jedi-0.18.2-py2.py3-none-any.whl (1.6 MB)\n",
            "\u001b[K     |████████████████████████████████| 1.6 MB 6.9 MB/s \n",
            "\u001b[?25hRequirement already satisfied: prompt-toolkit<2.1.0,>=2.0.0 in /usr/local/lib/python3.8/dist-packages (from ipython->ipython-autotime) (2.0.10)\n",
            "Requirement already satisfied: pexpect in /usr/local/lib/python3.8/dist-packages (from ipython->ipython-autotime) (4.8.0)\n",
            "Requirement already satisfied: traitlets>=4.2 in /usr/local/lib/python3.8/dist-packages (from ipython->ipython-autotime) (5.1.1)\n",
            "Requirement already satisfied: parso<0.9.0,>=0.8.0 in /usr/local/lib/python3.8/dist-packages (from jedi>=0.10->ipython->ipython-autotime) (0.8.3)\n",
            "Requirement already satisfied: six>=1.9.0 in /usr/local/lib/python3.8/dist-packages (from prompt-toolkit<2.1.0,>=2.0.0->ipython->ipython-autotime) (1.15.0)\n",
            "Requirement already satisfied: wcwidth in /usr/local/lib/python3.8/dist-packages (from prompt-toolkit<2.1.0,>=2.0.0->ipython->ipython-autotime) (0.2.5)\n",
            "Requirement already satisfied: ptyprocess>=0.5 in /usr/local/lib/python3.8/dist-packages (from pexpect->ipython->ipython-autotime) (0.7.0)\n",
            "Installing collected packages: jedi, ipython-autotime\n",
            "Successfully installed ipython-autotime-0.3.1 jedi-0.18.2\n",
            "time: 1.03 ms (started: 2022-12-05 16:12:56 +00:00)\n"
          ]
        }
      ]
    },
    {
      "cell_type": "code",
      "execution_count": null,
      "metadata": {
        "colab": {
          "base_uri": "https://localhost:8080/"
        },
        "id": "yeZQs4B-A_W-",
        "outputId": "69a8492f-ade4-471a-cdec-6d548bde4f8b"
      },
      "outputs": [
        {
          "output_type": "stream",
          "name": "stdout",
          "text": [
            "Mounted at /content/drive\n",
            "time: 22.1 s (started: 2022-12-05 16:12:56 +00:00)\n"
          ]
        }
      ],
      "source": [
        "from google.colab import drive\n",
        "drive.mount('/content/drive',force_remount=True)"
      ]
    },
    {
      "cell_type": "code",
      "execution_count": null,
      "metadata": {
        "colab": {
          "base_uri": "https://localhost:8080/"
        },
        "id": "xExowFCWBB6r",
        "outputId": "3040c49d-3f70-4f92-beba-000c5e151f57"
      },
      "outputs": [
        {
          "output_type": "stream",
          "name": "stdout",
          "text": [
            "File loaded: 1000 samples.\n",
            "Number of columns:  37\n",
            "time: 650 ms (started: 2022-12-05 16:13:18 +00:00)\n"
          ]
        }
      ],
      "source": [
        "filename = '/content/drive/MyDrive/ColabNotebooks/MachineLearning/HomeWork1_Dataset.tsv'\n",
        "df = pd.read_csv(filename, sep='\\t', header=0)\n",
        "print('File loaded: %d samples.' %(len(df)))\n",
        "print(\"Number of columns: \", len(df.columns))"
      ]
    },
    {
      "cell_type": "code",
      "execution_count": null,
      "metadata": {
        "id": "vCMv9OdSB-qQ",
        "colab": {
          "base_uri": "https://localhost:8080/"
        },
        "outputId": "226ace38-22da-42fc-d9c4-59a0c2f981ee"
      },
      "outputs": [
        {
          "output_type": "stream",
          "name": "stdout",
          "text": [
            "time: 85.8 ms (started: 2022-12-05 16:13:18 +00:00)\n"
          ]
        }
      ],
      "source": [
        "X_all = df.iloc[:,:35]\n",
        "classification_y_all = df['num_collisions']\n",
        "regression_y_all = df['min_CPA']\n",
        "\n",
        "\n",
        "#apply normalization\n",
        "X_normalized = X_all.copy()\n",
        "for column in X_normalized.columns:\n",
        "  X_normalized[column] = (X_normalized[column] - X_normalized[column].min()) / (X_normalized[column].max() - X_normalized[column].min())    \n",
        "\n",
        "\n",
        "reg_y_all_normalized = regression_y_all.copy()\n",
        "reg_y_all_normalized = (reg_y_all_normalized - reg_y_all_normalized.min()) / (reg_y_all_normalized.max() - reg_y_all_normalized.min())    \n"
      ]
    },
    {
      "cell_type": "markdown",
      "metadata": {
        "id": "KfYg_GOkBytS"
      },
      "source": [
        "#Divisione del dataset normalizzato in train set e training set"
      ]
    },
    {
      "cell_type": "code",
      "execution_count": null,
      "metadata": {
        "colab": {
          "base_uri": "https://localhost:8080/"
        },
        "id": "x8dorF_0CA8k",
        "outputId": "36f0a71e-5c55-4c39-e259-93f30bae736e"
      },
      "outputs": [
        {
          "output_type": "stream",
          "name": "stdout",
          "text": [
            "Dataset x train : (660, 35)\n",
            "Dataset y train : (660,)\n",
            "Dataset x test : (340, 35)\n",
            "Dataset y test : (340,)\n",
            "time: 16.2 ms (started: 2022-12-05 16:13:30 +00:00)\n"
          ]
        }
      ],
      "source": [
        "from sklearn.model_selection import train_test_split\n",
        "\n",
        "\n",
        "x_train, x_test, y_train, y_test = train_test_split(X_normalized,classification_y_all,train_size=0.66,random_state=200)\n",
        "\n",
        "print(\"Dataset x train :\", x_train.shape)\n",
        "print(\"Dataset y train :\", y_train.shape)\n",
        "print(\"Dataset x test :\", x_test.shape)\n",
        "print(\"Dataset y test :\", y_test.shape)"
      ]
    },
    {
      "cell_type": "markdown",
      "metadata": {
        "id": "GT_jmUhQ7T-a"
      },
      "source": [
        "#LOGISTIC REGRESSION"
      ]
    },
    {
      "cell_type": "code",
      "execution_count": null,
      "metadata": {
        "id": "3F035a5TVovr",
        "colab": {
          "base_uri": "https://localhost:8080/"
        },
        "outputId": "389c9d07-8877-4c77-9a0f-7eeff3017e87"
      },
      "outputs": [
        {
          "output_type": "stream",
          "name": "stdout",
          "text": [
            "time: 1.77 ms (started: 2022-11-27 11:39:51 +00:00)\n"
          ]
        }
      ],
      "source": [
        "#Import del modello logistic Regression\n",
        "from sklearn.linear_model import LogisticRegression\n",
        "from sklearn.pipeline import Pipeline\n",
        "from sklearn.model_selection import GridSearchCV\n",
        "\n",
        "param_grid = [\n",
        "    {\n",
        "      'classifier__penalty' : ['l2','none'],\n",
        "      'classifier__C' : np.logspace(-4, 4, 20),\n",
        "      'classifier__solver' : ['newton-cg'],\n",
        "      #'class_weight': ['balanced']\n",
        "     }\n",
        "    ]\n",
        "\n",
        "\n",
        "#Grid search\n",
        "pipe = Pipeline([('classifier' , LogisticRegression(multi_class=\"ovr\"))])\n",
        "clf = GridSearchCV(pipe, param_grid = param_grid, cv = 10, verbose=10 , n_jobs=-1)"
      ]
    },
    {
      "cell_type": "code",
      "execution_count": null,
      "metadata": {
        "colab": {
          "base_uri": "https://localhost:8080/"
        },
        "id": "E3cqz8ZpW6XU",
        "outputId": "d394628f-bfd9-4085-d053-fb4f284da98c"
      },
      "outputs": [
        {
          "output_type": "stream",
          "name": "stdout",
          "text": [
            "Fitting 10 folds for each of 40 candidates, totalling 400 fits\n"
          ]
        },
        {
          "output_type": "stream",
          "name": "stderr",
          "text": [
            "/usr/local/lib/python3.7/dist-packages/sklearn/model_selection/_split.py:680: UserWarning: The least populated class in y has only 1 members, which is less than n_splits=10.\n",
            "  UserWarning,\n"
          ]
        },
        {
          "output_type": "stream",
          "name": "stdout",
          "text": [
            "time: 24.6 s (started: 2022-11-27 11:39:54 +00:00)\n"
          ]
        }
      ],
      "source": [
        "best_clf = clf.fit(x_train, y_train)"
      ]
    },
    {
      "cell_type": "code",
      "execution_count": null,
      "metadata": {
        "colab": {
          "base_uri": "https://localhost:8080/"
        },
        "id": "tc8WrJnuYN_S",
        "outputId": "6cef7b97-11c9-4b79-95f2-fc366578c187"
      },
      "outputs": [
        {
          "output_type": "stream",
          "name": "stdout",
          "text": [
            "{'classifier__C': 0.0001, 'classifier__penalty': 'l2', 'classifier__solver': 'newton-cg'}\n",
            "0.5409090909090908\n",
            "Best Estimator : Pipeline(steps=[('classifier',\n",
            "                 LogisticRegression(C=0.0001, multi_class='ovr',\n",
            "                                    solver='newton-cg'))])\n",
            "time: 8.98 ms (started: 2022-11-27 11:38:27 +00:00)\n"
          ]
        }
      ],
      "source": [
        "#Stampa migliori Parametri e performance\n",
        "print(best_clf.best_params_)\n",
        "print(best_clf.best_score_)\n",
        "print(\"Best Estimator :\",best_clf.best_estimator_)"
      ]
    },
    {
      "cell_type": "code",
      "execution_count": null,
      "metadata": {
        "colab": {
          "base_uri": "https://localhost:8080/",
          "height": 646
        },
        "id": "JL6LhB7bKYuL",
        "outputId": "fe547a38-75dc-4602-cd23-92b3cccba046"
      },
      "outputs": [
        {
          "output_type": "stream",
          "name": "stdout",
          "text": [
            "              precision    recall  f1-score   support\n",
            "\n",
            "           0       0.53      1.00      0.69       181\n",
            "           1       0.00      0.00      0.00       107\n",
            "           2       0.00      0.00      0.00        36\n",
            "           3       0.00      0.00      0.00        14\n",
            "           4       0.00      0.00      0.00         2\n",
            "\n",
            "    accuracy                           0.53       340\n",
            "   macro avg       0.11      0.20      0.14       340\n",
            "weighted avg       0.28      0.53      0.37       340\n",
            "\n"
          ]
        },
        {
          "output_type": "stream",
          "name": "stderr",
          "text": [
            "/usr/local/lib/python3.7/dist-packages/sklearn/metrics/_classification.py:1318: UndefinedMetricWarning: Precision and F-score are ill-defined and being set to 0.0 in labels with no predicted samples. Use `zero_division` parameter to control this behavior.\n",
            "  _warn_prf(average, modifier, msg_start, len(result))\n",
            "/usr/local/lib/python3.7/dist-packages/sklearn/metrics/_classification.py:1318: UndefinedMetricWarning: Precision and F-score are ill-defined and being set to 0.0 in labels with no predicted samples. Use `zero_division` parameter to control this behavior.\n",
            "  _warn_prf(average, modifier, msg_start, len(result))\n",
            "/usr/local/lib/python3.7/dist-packages/sklearn/metrics/_classification.py:1318: UndefinedMetricWarning: Precision and F-score are ill-defined and being set to 0.0 in labels with no predicted samples. Use `zero_division` parameter to control this behavior.\n",
            "  _warn_prf(average, modifier, msg_start, len(result))\n"
          ]
        },
        {
          "output_type": "execute_result",
          "data": {
            "text/plain": [
              "<sklearn.metrics._plot.confusion_matrix.ConfusionMatrixDisplay at 0x7f6ee21fb550>"
            ]
          },
          "metadata": {},
          "execution_count": 11
        },
        {
          "output_type": "display_data",
          "data": {
            "text/plain": [
              "<Figure size 432x288 with 2 Axes>"
            ],
            "image/png": "[encoded data removed]"
          },
          "metadata": {
            "needs_background": "light"
          }
        },
        {
          "output_type": "stream",
          "name": "stdout",
          "text": [
            "time: 215 ms (started: 2022-11-27 11:38:32 +00:00)\n"
          ]
        }
      ],
      "source": [
        "#report completo sul modello migliore\n",
        "y_pred = best_clf.best_estimator_.predict(x_test)\n",
        "report = classification_report(y_test,y_pred)\n",
        "confusion = confusion_matrix(y_test,y_pred)\n",
        "displ = ConfusionMatrixDisplay(confusion)\n",
        "\n",
        "print(report)\n",
        "displ.plot()"
      ]
    },
    {
      "cell_type": "markdown",
      "metadata": {
        "id": "i8GNizAf2uj4"
      },
      "source": [
        "#Logistic regression su dataset Bilanciato\n"
      ]
    },
    {
      "cell_type": "code",
      "execution_count": null,
      "metadata": {
        "id": "jN5Y53oZ3b0b",
        "colab": {
          "base_uri": "https://localhost:8080/"
        },
        "outputId": "c9ddfd0e-94f7-433c-f682-e00c630977ac"
      },
      "outputs": [
        {
          "output_type": "stream",
          "name": "stdout",
          "text": [
            "time: 371 ms (started: 2022-12-05 16:14:03 +00:00)\n"
          ]
        }
      ],
      "source": [
        "from imblearn.over_sampling import SMOTE \n",
        "import matplotlib.pyplot as plt\n",
        "sm = SMOTE(random_state=42, k_neighbors=2)\n",
        "X_res, y_res = sm.fit_resample(X_normalized, classification_y_all)"
      ]
    },
    {
      "cell_type": "code",
      "execution_count": null,
      "metadata": {
        "colab": {
          "base_uri": "https://localhost:8080/",
          "height": 330
        },
        "id": "_0VQn7SO2yTp",
        "outputId": "0977d60e-317c-488b-ec19-9131b3605ae3"
      },
      "outputs": [
        {
          "output_type": "execute_result",
          "data": {
            "text/plain": [
              "Text(0.5, 1.0, 'Dataset distibution over the number of collisions (resampled)')"
            ]
          },
          "metadata": {},
          "execution_count": 9
        },
        {
          "output_type": "display_data",
          "data": {
            "text/plain": [
              "<Figure size 432x288 with 1 Axes>"
            ],
            "image/png": "[encoded data removed]"
          },
          "metadata": {
            "needs_background": "light"
          }
        },
        {
          "output_type": "stream",
          "name": "stdout",
          "text": [
            "time: 150 ms (started: 2022-12-05 16:14:06 +00:00)\n"
          ]
        }
      ],
      "source": [
        "occorrenze_collisioni = y_res.value_counts()\n",
        "fig,ax = plt.subplots()\n",
        "\n",
        "ax.bar(x=['0','1 ','2 ','3','4'],height=occorrenze_collisioni,width=0.5, color = ['red','green','blue','yellow','purple'])\n",
        "ax.set_xlabel (\"Number of collisions\")\n",
        "ax.set_ylabel (\"Number of samples\")\n",
        "ax.set_title('Dataset distibution over the number of collisions (resampled)')\n",
        "\n",
        "# for i in occorrenze_collisioni: \n",
        "#   print(\"Class \",i)\n"
      ]
    },
    {
      "cell_type": "code",
      "execution_count": null,
      "metadata": {
        "colab": {
          "base_uri": "https://localhost:8080/"
        },
        "id": "y60KyVr-4b3n",
        "outputId": "47101747-a0ee-4bc2-9c55-c4c2b67d81f1"
      },
      "outputs": [
        {
          "output_type": "stream",
          "name": "stdout",
          "text": [
            "time: 4.57 ms (started: 2022-12-05 16:14:55 +00:00)\n"
          ]
        }
      ],
      "source": [
        "from sklearn.utils import shuffle\n",
        "\n",
        "indexes = np.arange(X_res.shape[0])\n",
        "shuffled_indexes = shuffle(indexes)\n",
        "\n",
        "\n",
        "X_balanced = X_res.to_numpy()[shuffled_indexes]\n",
        "y_balanced = y_res.to_numpy()[shuffled_indexes]\n",
        "\n"
      ]
    },
    {
      "cell_type": "code",
      "source": [
        "x_train_balanced, x_test_balanced, y_train_balanced, y_test_balanced = train_test_split(X_balanced,y_balanced,train_size=0.66,random_state=200)"
      ],
      "metadata": {
        "colab": {
          "base_uri": "https://localhost:8080/"
        },
        "id": "nw5f_ikQc3WR",
        "outputId": "b47f893b-2685-42ec-d0c1-eae5353e99f3"
      },
      "execution_count": null,
      "outputs": [
        {
          "output_type": "stream",
          "name": "stdout",
          "text": [
            "time: 10 ms (started: 2022-12-05 16:14:58 +00:00)\n"
          ]
        }
      ]
    },
    {
      "cell_type": "code",
      "execution_count": null,
      "metadata": {
        "colab": {
          "base_uri": "https://localhost:8080/"
        },
        "id": "jrdAcHIu6jD-",
        "outputId": "d5b1fffd-61e1-4bf8-fd66-40fae0b1f5c9"
      },
      "outputs": [
        {
          "output_type": "stream",
          "name": "stdout",
          "text": [
            "Fitting 10 folds for each of 40 candidates, totalling 400 fits\n",
            "time: 1min 6s (started: 2022-11-27 11:41:13 +00:00)\n"
          ]
        }
      ],
      "source": [
        "best_clf = clf.fit(X_balanced, y_balanced)"
      ]
    },
    {
      "cell_type": "code",
      "execution_count": null,
      "metadata": {
        "colab": {
          "base_uri": "https://localhost:8080/"
        },
        "id": "bG10cXHP6pGd",
        "outputId": "461b0f48-132a-43b5-9618-fbb17b05e5e4"
      },
      "outputs": [
        {
          "output_type": "stream",
          "name": "stdout",
          "text": [
            "{'classifier__C': 29.763514416313132, 'classifier__penalty': 'l2', 'classifier__solver': 'newton-cg'}\n",
            "0.5631970260223049\n",
            "Best Estimator : Pipeline(steps=[('classifier',\n",
            "                 LogisticRegression(C=29.763514416313132, multi_class='ovr',\n",
            "                                    solver='newton-cg'))])\n",
            "time: 4.12 ms (started: 2022-11-27 11:45:12 +00:00)\n"
          ]
        }
      ],
      "source": [
        "#Stampa migliori Parametri e performance\n",
        "print(best_clf.best_params_)\n",
        "print(best_clf.best_score_)\n",
        "print(\"Best Estimator :\",best_clf.best_estimator_)"
      ]
    },
    {
      "cell_type": "code",
      "execution_count": null,
      "metadata": {
        "colab": {
          "base_uri": "https://localhost:8080/",
          "height": 581
        },
        "id": "GoATXPXk6s2B",
        "outputId": "7c09e206-0238-4346-c7f9-029050d730da"
      },
      "outputs": [
        {
          "output_type": "stream",
          "name": "stdout",
          "text": [
            "              precision    recall  f1-score   support\n",
            "\n",
            "           0       0.59      0.23      0.33       181\n",
            "           1       0.38      0.22      0.28       107\n",
            "           2       0.17      0.44      0.24        36\n",
            "           3       0.09      0.64      0.16        14\n",
            "           4       0.20      1.00      0.33         2\n",
            "\n",
            "    accuracy                           0.27       340\n",
            "   macro avg       0.28      0.51      0.27       340\n",
            "weighted avg       0.46      0.27      0.30       340\n",
            "\n"
          ]
        },
        {
          "output_type": "stream",
          "name": "stderr",
          "text": [
            "/usr/local/lib/python3.7/dist-packages/sklearn/base.py:444: UserWarning: X has feature names, but LogisticRegression was fitted without feature names\n",
            "  f\"X has feature names, but {self.__class__.__name__} was fitted without\"\n"
          ]
        },
        {
          "output_type": "execute_result",
          "data": {
            "text/plain": [
              "<sklearn.metrics._plot.confusion_matrix.ConfusionMatrixDisplay at 0x7f6edce83c50>"
            ]
          },
          "metadata": {},
          "execution_count": 20
        },
        {
          "output_type": "display_data",
          "data": {
            "text/plain": [
              "<Figure size 432x288 with 2 Axes>"
            ],
            "image/png": "[encoded data removed]"
          },
          "metadata": {
            "needs_background": "light"
          }
        },
        {
          "output_type": "stream",
          "name": "stdout",
          "text": [
            "time: 194 ms (started: 2022-11-27 11:45:14 +00:00)\n"
          ]
        }
      ],
      "source": [
        "#report completo sul modello migliore\n",
        "y_pred = best_clf.best_estimator_.predict(x_test)\n",
        "report = classification_report(y_test,y_pred)\n",
        "confusion = confusion_matrix(y_test,y_pred)\n",
        "displ = ConfusionMatrixDisplay(confusion)\n",
        "\n",
        "print(report)\n",
        "displ.plot()"
      ]
    },
    {
      "cell_type": "markdown",
      "metadata": {
        "id": "P1_Hv2T47Xat"
      },
      "source": [
        "#Linear Classification\n"
      ]
    },
    {
      "cell_type": "code",
      "execution_count": null,
      "metadata": {
        "colab": {
          "base_uri": "https://localhost:8080/"
        },
        "id": "svzEDaZD78KS",
        "outputId": "d5a2806c-9c42-4aaa-bf7a-cd7ecfbed6df"
      },
      "outputs": [
        {
          "name": "stdout",
          "output_type": "stream",
          "text": [
            "Random sample:  867  : [1 0 0 0 0]\n"
          ]
        }
      ],
      "source": [
        "#transformo la y in one hot of k enconding\n",
        "from sklearn.preprocessing import LabelBinarizer\n",
        "y_one_hot = LabelBinarizer().fit_transform(classification_y_all)\n",
        "id = random.randrange(0,len(y_one_hot))\n",
        "print(\"Random sample: \",id,\" :\",y_one_hot[id])\n"
      ]
    },
    {
      "cell_type": "code",
      "execution_count": null,
      "metadata": {
        "id": "EdwBzKjO9tJy"
      },
      "outputs": [],
      "source": [
        "class LeastSquare:\n",
        "\n",
        "    def __init__(self):\n",
        "        self.w = [0, 0, 0]\n",
        "\n",
        "    def fit(self,X,t):\n",
        "        n = len(X) # nr. of examples\n",
        "        t2 = np.c_[t, 1-t] # t2 is T: 1-of-K encoding\n",
        "        phi = np.c_[np.ones(n), X] # design matrix\n",
        "        self.w = np.matmul(np.linalg.pinv(phi),t2) # Least square solution\n",
        "        print(\"Least square solution: %s\" %(str(self.w.transpose())))\n",
        "\n",
        "    def predict(self,x):\n",
        "        xn = np.array((1, x[0][0], x[0][1]))\n",
        "        yn = np.matmul(self.w.transpose(),xn)\n",
        "        if yn[0]>yn[1]:\n",
        "            return 1\n",
        "        else:\n",
        "            return -1"
      ]
    },
    {
      "cell_type": "code",
      "execution_count": null,
      "metadata": {
        "id": "qOFeHYnI-cBx"
      },
      "outputs": [],
      "source": [
        "class SimplePerceptron:\n",
        "\n",
        "    def __init__(self, eta=0.01, niter=100):\n",
        "        self.eta = eta\n",
        "        self.niter = niter\n",
        "        self.w = np.zeros(3)\n",
        "    \n",
        "    def fit(self,X,t):\n",
        "        print('Perceptron model - eta: %f, niter: %d' %(self.eta, self.niter))\n",
        "        n = len(X)\n",
        "        # initial solution\n",
        "        self.w = np.random.random()*np.ones(3)\n",
        "        # niter iterations\n",
        "        for i in range (0,self.niter):\n",
        "            # select an instance\n",
        "            k = int(np.random.random()*n)\n",
        "            xk = np.array([1,X[k][0],X[k][1]])\n",
        "            if (t[k]==1):\n",
        "                tk = 1\n",
        "            else:\n",
        "                tk = -1\n",
        "            # output\n",
        "            o = np.sign(np.dot(self.w,xk))  # thresholded\n",
        "            # update weigths\n",
        "            self.w = self.w + self.eta * (tk-o) * xk\n",
        "        print(\"Perceptron solution: %s\" %str(self.w.transpose()))\n",
        "\n",
        "    def predict(self,x):\n",
        "        xn = np.array((1, x[0][0], x[0][1]))\n",
        "        yn = np.matmul(self.w.transpose(),xn)        \n",
        "        return np.sign(yn)"
      ]
    },
    {
      "cell_type": "code",
      "execution_count": null,
      "metadata": {
        "id": "gr2UbjnR-fy5"
      },
      "outputs": [],
      "source": [
        "class FisherDiscriminant:\n",
        "\n",
        "    def __init__(self):\n",
        "        self.w = [0, 0, 0]\n",
        "        self.label = \"Fisher Discriminant\"\n",
        "\n",
        "    def fit(self,X,t):\n",
        "        n = len(X)  # num of examples\n",
        "        # group the two subsets \n",
        "        # C1 = positive samples, C2 = negative samples\n",
        "        C1 = np.ndarray((0,2))\n",
        "        C2 = np.ndarray((0,2))\n",
        "        for i in range(0,len(X)):\n",
        "            if (t[i][0] == 1):\n",
        "                C1 = np.vstack([C1, [X[i,0],X[i,1]]])\n",
        "            else:\n",
        "                C2 = np.vstack([C2, [X[i,0],X[i,1]]])\t\t\t\n",
        "        \n",
        "        # compute means m1, m2\n",
        "        m1 = np.mean(C1, axis=0)\n",
        "        m2 = np.mean(C2, axis=0)\n",
        "        \n",
        "        # compute covariances S1, S2\n",
        "        S1 = np.zeros((2,2))\n",
        "        d = np.array(())\n",
        "        for c in C1:\n",
        "            d = np.subtract(c,m1).reshape(2,1)\n",
        "            dt = d.transpose()\n",
        "            S1 = S1 + np.matmul(d,dt)\n",
        "        \n",
        "        S1 = S1/len(C1);\n",
        "        \n",
        "        S2 = np.zeros((2,2))\n",
        "        for c in C2:\n",
        "            d = np.subtract(c,m2).reshape(2,1)\n",
        "            dt = d.transpose()\n",
        "            S2 = S2 + np.matmul(d,dt)\n",
        "        S2 = S2/len(C2);\n",
        "        \n",
        "        # compute Sw matrix\n",
        "        Sw = S1+S2\n",
        "        \n",
        "        # compute solution w \n",
        "        wt = np.matmul(np.linalg.inv(Sw),(m1-m2))\n",
        "        \n",
        "        # global mean\n",
        "        mu = m1 * 0.5 + m2 * 0.5\n",
        "        \n",
        "        # compute constant term\n",
        "        w0 = np.dot(wt,mu)\n",
        "        \n",
        "        # format the final solution\n",
        "        self.w = np.array([-w0, wt[0], wt[1]])\n",
        "        print(\"Fisher discriminant solution: %s\" %str(self.w.transpose()))\n",
        "\n",
        "    \n",
        "    def predict(self,x):\n",
        "        xn = np.array((1, x[0][0], x[0][1]))\n",
        "        yn = np.matmul(self.w.transpose(),xn)\n",
        "        if yn>0:\n",
        "            return 1\n",
        "        else:\n",
        "            return -1"
      ]
    },
    {
      "cell_type": "code",
      "execution_count": null,
      "metadata": {
        "id": "I0K6Pg70LDfO"
      },
      "outputs": [],
      "source": [
        "# Plot Functions\n",
        "def plotData(X,t,XNr=None,XNg=None,label='Data'):\n",
        "    Xr = np.ndarray((0,2))\n",
        "    Xg = np.ndarray((0,2))\n",
        "    for i in range(0,len(X)):\n",
        "        if (t[i][0]==1):\n",
        "            Xr = np.vstack([Xr, [X[i,0],X[i,1]]])\n",
        "        else:\n",
        "            Xg = np.vstack([Xg, [X[i,0],X[i,1]]])\n",
        "            \n",
        "    if (not XNr is None):\n",
        "        plt.plot(XNr[:,0],XNr[:,1],'.', color='#FFAAAA')\n",
        "    if (not XNg is None):\n",
        "        plt.plot(XNg[:,0],XNg[:,1],'.', color='#AAFFAA')\n",
        "\n",
        "    plt.plot(Xr[:,0],Xr[:,1],'ro')\n",
        "    plt.plot(Xg[:,0],Xg[:,1],'go')\n",
        "    plt.axis([0,10,0,10])\n",
        "    plt.title(label)\n",
        "    plt.xlabel('x1')\n",
        "    plt.ylabel('x2')\n",
        "    plt.show()\n",
        "    \n",
        "# Plot results of a solution\n",
        "def plotResult(X, t, clf, label):\n",
        "    XNr = np.ndarray((0,2))\n",
        "    XNg = np.ndarray((0,2))\n",
        "\n",
        "    for u in np.arange(0,10,0.1):\n",
        "        for v in np.arange(0,10,0.1):\n",
        "            xn = np.array([[u, v]])\n",
        "            yn = clf.predict(xn)\n",
        "            if (yn<0):\n",
        "                XNg = np.vstack([XNg, [u,v]])\n",
        "            else:\n",
        "                XNr = np.vstack([XNr, [u,v]])\n",
        "        \n",
        "    plotData(X,t,XNr,XNg,label)"
      ]
    },
    {
      "cell_type": "code",
      "execution_count": null,
      "metadata": {
        "colab": {
          "base_uri": "https://localhost:8080/"
        },
        "id": "P5ckyflLMcti",
        "outputId": "e3243cb5-3194-4f28-8935-4726ec06523a"
      },
      "outputs": [
        {
          "data": {
            "text/plain": [
              "LinearSVC()"
            ]
          },
          "execution_count": 16,
          "metadata": {},
          "output_type": "execute_result"
        }
      ],
      "source": [
        "classifier_name = 'S'\n",
        "\n",
        "ClassifierMap = {\n",
        "    'L': [LeastSquare, 'Least Square'], \n",
        "    'F': [FisherDiscriminant, 'Fisher Discriminant'], \n",
        "    'p': [SimplePerceptron, 'Simple Perceptron'], \n",
        "    'P': [Perceptron, 'Perceptron'], \n",
        "    'S': [svm.LinearSVC, 'SVM']\n",
        "    }\n",
        "\n",
        "classifier = ClassifierMap[classifier_name][0]()\n",
        "\n",
        "# train the classifier\n",
        "classifier.fit(X_normalized,classification_y_all)"
      ]
    },
    {
      "cell_type": "code",
      "execution_count": null,
      "metadata": {
        "colab": {
          "base_uri": "https://localhost:8080/"
        },
        "id": "j0SdD3it8FmZ",
        "outputId": "54142c44-6eec-446b-cad4-bf06585a8386"
      },
      "outputs": [
        {
          "name": "stdout",
          "output_type": "stream",
          "text": [
            "(1000, 35)\n"
          ]
        }
      ],
      "source": [
        "#Plot del dataset\n",
        "#plotData(X_normalized,classification_y_all)\n",
        "#X_normalized.plot()\n",
        "print(X_normalized.shape)\n",
        "# plotResult(X_normalized,classification_y_all,classifier,ClassifierMap[classifier_name][1])"
      ]
    },
    {
      "cell_type": "code",
      "execution_count": null,
      "metadata": {
        "id": "BXEjk1UgKGFl"
      },
      "outputs": [],
      "source": [
        "#Parametri per simple perceptron\n",
        "eta = 0.001\n",
        "niter = 1000\n",
        "\n",
        "if (classifier_name == 'p'):  # SimplePerceptron\n",
        "    classifier.eta = eta\n",
        "    classifier.niter = niter"
      ]
    },
    {
      "cell_type": "code",
      "execution_count": null,
      "metadata": {
        "colab": {
          "base_uri": "https://localhost:8080/"
        },
        "id": "XR20fy9CKM9K",
        "outputId": "4e56a707-e6f8-49d2-a5e6-07289c62a5e3"
      },
      "outputs": [
        {
          "name": "stdout",
          "output_type": "stream",
          "text": [
            "Least square solution: [[ 6.44257437e-01 -1.46751334e-01  7.64962406e-02  1.23011764e-02\n",
            "  -1.90490067e-01  7.14402583e-02 -4.85785202e-02 -7.47845874e-02\n",
            "   1.60673529e-01  8.68107573e-02  1.39307109e-01  1.96201918e-01\n",
            "   6.88114571e-03 -2.14514001e-01 -2.23887335e-02  1.31990621e-01\n",
            "  -2.33624073e-01  7.61377618e-02 -1.13209446e-01 -3.93785177e-02\n",
            "   2.04804606e-01  4.38836307e-02  4.23608791e-04  5.68152116e-02\n",
            "   3.57624616e-02  8.59659212e-02 -3.38516919e-02 -1.38713158e-01\n",
            "  -2.75019355e-02 -1.13398180e-01 -6.75854823e-02 -3.51532815e-02\n",
            "  -1.27375126e-01 -4.69122103e-02  7.51176960e-02 -1.33445603e-03]\n",
            " [ 3.52630359e-01  1.47201519e-01  2.28690068e-02  1.73811691e-02\n",
            "   2.76191530e-01 -1.06785100e-01 -9.41299199e-02  6.41767589e-02\n",
            "  -5.03032859e-02 -8.67332054e-02 -1.68151251e-01 -1.00619130e-01\n",
            "  -7.28485679e-02  1.17736950e-01  6.44029985e-02 -9.64881517e-02\n",
            "  -5.93572688e-02  1.95256552e-02 -1.13828641e-02  9.15383676e-02\n",
            "   9.18588570e-03 -1.25454984e-01  7.54432518e-03 -1.19707817e-02\n",
            "   1.85859565e-02  8.97480750e-02  3.36278502e-02 -6.68427320e-03\n",
            "  -2.00173184e-03 -9.63833208e-03 -4.84104151e-02  2.23871161e-02\n",
            "   3.48147555e-02 -1.45260119e-02 -6.13413107e-02  4.16957115e-02]\n",
            " [ 1.08043588e-02 -2.09952953e-02 -6.01922877e-02 -1.11766330e-02\n",
            "  -8.37412880e-02  2.32926581e-02  1.39209231e-01 -2.88077743e-03\n",
            "  -1.47954157e-01  7.55133052e-02  4.62141366e-02 -7.52491086e-02\n",
            "   8.49721027e-02  4.88643092e-02 -5.38627632e-02 -9.77930130e-03\n",
            "   2.35945752e-01 -1.14762401e-01  1.05711628e-01 -9.13377353e-02\n",
            "  -1.72688586e-01  1.31405148e-01 -2.25330482e-02 -2.63288782e-02\n",
            "  -8.74509964e-02 -1.46196836e-01 -5.57126834e-02  1.12226555e-01\n",
            "   5.17739129e-02  1.10291845e-01  1.01262717e-01  3.61784663e-03\n",
            "   4.55918741e-02  4.64604042e-02  1.43723216e-02 -1.31701004e-02]\n",
            " [ 6.39068397e-03  6.30983573e-03 -2.34121675e-02 -3.40511700e-02\n",
            "  -4.53784755e-03 -6.33162230e-03 -8.71138973e-03  3.75146229e-02\n",
            "   4.14520565e-02 -6.60207540e-02 -1.25193273e-02 -8.95792831e-03\n",
            "  -1.73713813e-02  2.83621560e-02  1.41316894e-02 -2.35125659e-02\n",
            "   4.62060131e-02  8.74972959e-03  1.80535541e-02  3.57666500e-02\n",
            "  -3.92932756e-02 -3.66204495e-02  1.19115274e-02 -1.72240448e-02\n",
            "   4.16576303e-02 -2.84122598e-02  5.62676544e-02  2.09914124e-02\n",
            "  -3.01722270e-02  1.05879386e-02 -3.19094188e-03  1.88562373e-02\n",
            "   3.04581565e-02  1.72411786e-02 -6.57382082e-03 -3.03235199e-02]\n",
            " [-1.40828393e-02  1.42352749e-02 -1.57607922e-02  1.55454576e-02\n",
            "   2.57767321e-03  1.83838061e-02  1.22105991e-02 -2.40260169e-02\n",
            "  -3.86814252e-03 -9.57010312e-03 -4.85066775e-03 -1.13757503e-02\n",
            "  -1.63329912e-03  1.95505854e-02 -2.28319130e-03 -2.21060228e-03\n",
            "   1.08295762e-02  1.03492543e-02  8.27128084e-04  3.41123538e-03\n",
            "  -2.00863097e-03 -1.32133452e-02  2.65358683e-03 -1.29150692e-03\n",
            "  -8.55505198e-03 -1.10490056e-03 -3.31129318e-04  1.21794639e-02\n",
            "   7.90198146e-03  2.15672840e-03  1.79241221e-02 -9.70791856e-03\n",
            "   1.65103396e-02 -2.26336068e-03 -2.15748860e-02  3.13236474e-03]\n",
            " [ 3.55742563e-01  1.46751334e-01 -7.64962406e-02 -1.23011764e-02\n",
            "   1.90490067e-01 -7.14402583e-02  4.85785202e-02  7.47845874e-02\n",
            "  -1.60673529e-01 -8.68107573e-02 -1.39307109e-01 -1.96201918e-01\n",
            "  -6.88114571e-03  2.14514001e-01  2.23887335e-02 -1.31990621e-01\n",
            "   2.33624073e-01 -7.61377618e-02  1.13209446e-01  3.93785177e-02\n",
            "  -2.04804606e-01 -4.38836307e-02 -4.23608791e-04 -5.68152116e-02\n",
            "  -3.57624616e-02 -8.59659212e-02  3.38516919e-02  1.38713158e-01\n",
            "   2.75019355e-02  1.13398180e-01  6.75854823e-02  3.51532815e-02\n",
            "   1.27375126e-01  4.69122103e-02 -7.51176960e-02  1.33445603e-03]\n",
            " [ 6.47369641e-01 -1.47201519e-01 -2.28690068e-02 -1.73811691e-02\n",
            "  -2.76191530e-01  1.06785100e-01  9.41299199e-02 -6.41767589e-02\n",
            "   5.03032859e-02  8.67332054e-02  1.68151251e-01  1.00619130e-01\n",
            "   7.28485679e-02 -1.17736950e-01 -6.44029985e-02  9.64881517e-02\n",
            "   5.93572688e-02 -1.95256552e-02  1.13828641e-02 -9.15383676e-02\n",
            "  -9.18588570e-03  1.25454984e-01 -7.54432518e-03  1.19707817e-02\n",
            "  -1.85859565e-02 -8.97480750e-02 -3.36278502e-02  6.68427320e-03\n",
            "   2.00173184e-03  9.63833208e-03  4.84104151e-02 -2.23871161e-02\n",
            "  -3.48147555e-02  1.45260119e-02  6.13413107e-02 -4.16957115e-02]\n",
            " [ 9.89195641e-01  2.09952953e-02  6.01922877e-02  1.11766330e-02\n",
            "   8.37412880e-02 -2.32926581e-02 -1.39209231e-01  2.88077743e-03\n",
            "   1.47954157e-01 -7.55133052e-02 -4.62141366e-02  7.52491086e-02\n",
            "  -8.49721027e-02 -4.88643092e-02  5.38627632e-02  9.77930130e-03\n",
            "  -2.35945752e-01  1.14762401e-01 -1.05711628e-01  9.13377353e-02\n",
            "   1.72688586e-01 -1.31405148e-01  2.25330482e-02  2.63288782e-02\n",
            "   8.74509964e-02  1.46196836e-01  5.57126834e-02 -1.12226555e-01\n",
            "  -5.17739129e-02 -1.10291845e-01 -1.01262717e-01 -3.61784663e-03\n",
            "  -4.55918741e-02 -4.64604042e-02 -1.43723216e-02  1.31701004e-02]\n",
            " [ 9.93609316e-01 -6.30983573e-03  2.34121675e-02  3.40511700e-02\n",
            "   4.53784755e-03  6.33162230e-03  8.71138973e-03 -3.75146229e-02\n",
            "  -4.14520565e-02  6.60207540e-02  1.25193273e-02  8.95792831e-03\n",
            "   1.73713813e-02 -2.83621560e-02 -1.41316894e-02  2.35125659e-02\n",
            "  -4.62060131e-02 -8.74972959e-03 -1.80535541e-02 -3.57666500e-02\n",
            "   3.92932756e-02  3.66204495e-02 -1.19115274e-02  1.72240448e-02\n",
            "  -4.16576303e-02  2.84122598e-02 -5.62676544e-02 -2.09914124e-02\n",
            "   3.01722270e-02 -1.05879386e-02  3.19094188e-03 -1.88562373e-02\n",
            "  -3.04581565e-02 -1.72411786e-02  6.57382082e-03  3.03235199e-02]\n",
            " [ 1.01408284e+00 -1.42352749e-02  1.57607922e-02 -1.55454576e-02\n",
            "  -2.57767321e-03 -1.83838061e-02 -1.22105991e-02  2.40260169e-02\n",
            "   3.86814252e-03  9.57010312e-03  4.85066775e-03  1.13757503e-02\n",
            "   1.63329912e-03 -1.95505854e-02  2.28319130e-03  2.21060228e-03\n",
            "  -1.08295762e-02 -1.03492543e-02 -8.27128084e-04 -3.41123538e-03\n",
            "   2.00863097e-03  1.32133452e-02 -2.65358683e-03  1.29150692e-03\n",
            "   8.55505198e-03  1.10490056e-03  3.31129318e-04 -1.21794639e-02\n",
            "  -7.90198146e-03 -2.15672840e-03 -1.79241221e-02  9.70791856e-03\n",
            "  -1.65103396e-02  2.26336068e-03  2.15748860e-02 -3.13236474e-03]]\n"
          ]
        }
      ],
      "source": [
        "#TRAINING & plot usando i diversi modelli di linear Classification\n",
        "from sklearn.linear_model import Perceptron\n",
        "from sklearn import svm\n",
        "\n",
        "\n",
        "ClassifierMap = {\n",
        "    'L': [LeastSquare, 'Least Square'], \n",
        "    'F': [FisherDiscriminant, 'Fisher Discriminant'], \n",
        "    'p': [SimplePerceptron, 'Simple Perceptron'], \n",
        "    'P': [Perceptron, 'Perceptron'], \n",
        "    'S': [svm.LinearSVC, 'SVM']\n",
        "    }\n",
        "\n",
        "\n",
        "classifier_name = 'L'\n",
        "classifier = ClassifierMap[classifier_name][0]()\n",
        "classifier.fit(X_normalized,y_one_hot)\n",
        "#plotResult(X_normalized,y_one_hot,classifier,ClassifierMap[classifier_name][1])"
      ]
    },
    {
      "cell_type": "code",
      "execution_count": null,
      "metadata": {
        "id": "nezMD3mN_2Zd"
      },
      "outputs": [],
      "source": []
    },
    {
      "cell_type": "markdown",
      "metadata": {
        "id": "YmKbv_4z_6Of"
      },
      "source": [
        "#Kernel Method for classification\n"
      ]
    },
    {
      "cell_type": "code",
      "execution_count": null,
      "metadata": {
        "id": "mfsUbgqGMyjL",
        "colab": {
          "base_uri": "https://localhost:8080/"
        },
        "outputId": "4c0e6637-d06e-4529-d98e-dbc29acbcd4c"
      },
      "outputs": [
        {
          "output_type": "stream",
          "name": "stdout",
          "text": [
            "time: 3.4 ms (started: 2022-11-23 18:13:34 +00:00)\n"
          ]
        }
      ],
      "source": [
        "#GRID SEARCH SUL KERNEL\n",
        "from sklearn.pipeline import Pipeline\n",
        "from sklearn.model_selection import GridSearchCV\n",
        "\n",
        "param_grid = [\n",
        "    {\n",
        "      'classifier__kernel' : ['rbf', 'poly', 'sigmoid','linear'],\n",
        "      'classifier__gamma': [1,0.1,0.001],\n",
        "      'classifier__C': np.logspace(-4, 4, 5)\n",
        "     }\n",
        "    ]\n",
        "\n",
        "#Grid search Svm con kernel\n",
        "pipe = Pipeline([('classifier' , svm.SVC())])\n",
        "svm_clf = GridSearchCV(pipe, param_grid = param_grid, scoring=\"accuracy\", cv = 10, verbose=10 , n_jobs=-1)"
      ]
    },
    {
      "cell_type": "code",
      "execution_count": null,
      "metadata": {
        "colab": {
          "base_uri": "https://localhost:8080/"
        },
        "id": "LAug8SWpFshu",
        "outputId": "d2281151-cd89-4ee3-97a3-402f2e17b662"
      },
      "outputs": [
        {
          "output_type": "stream",
          "name": "stdout",
          "text": [
            "Fitting 10 folds for each of 60 candidates, totalling 600 fits\n"
          ]
        },
        {
          "output_type": "execute_result",
          "data": {
            "text/plain": [
              "GridSearchCV(cv=10, estimator=Pipeline(steps=[('classifier', SVC())]),\n",
              "             n_jobs=-1,\n",
              "             param_grid=[{'classifier__C': array([1.e-04, 1.e-02, 1.e+00, 1.e+02, 1.e+04]),\n",
              "                          'classifier__gamma': [1, 0.1, 0.001],\n",
              "                          'classifier__kernel': ['rbf', 'poly', 'sigmoid',\n",
              "                                                 'linear']}],\n",
              "             scoring='accuracy', verbose=10)"
            ]
          },
          "metadata": {},
          "execution_count": 24
        },
        {
          "output_type": "stream",
          "name": "stdout",
          "text": [
            "time: 53min 9s (started: 2022-11-23 18:13:41 +00:00)\n"
          ]
        }
      ],
      "source": [
        "#Addestramento\n",
        "svm_clf.get_params()\n",
        "svm_clf.fit(x_train, y_train) "
      ]
    },
    {
      "cell_type": "code",
      "execution_count": null,
      "metadata": {
        "colab": {
          "base_uri": "https://localhost:8080/"
        },
        "id": "sA6NbC3tb3kp",
        "outputId": "cf93639d-c162-4df7-c14a-9498c8e87cb0"
      },
      "outputs": [
        {
          "output_type": "stream",
          "name": "stdout",
          "text": [
            "{'classifier__C': 0.0001, 'classifier__gamma': 1, 'classifier__kernel': 'rbf'}\n",
            "0.5409090909090908\n",
            "Best Estimator : Pipeline(steps=[('classifier', SVC(C=0.0001, gamma=1))])\n",
            "time: 1.41 ms (started: 2022-11-23 19:06:51 +00:00)\n"
          ]
        }
      ],
      "source": [
        "print(svm_clf.best_params_)\n",
        "print(svm_clf.best_score_)\n",
        "print(\"Best Estimator :\",svm_clf.best_estimator_)"
      ]
    },
    {
      "cell_type": "code",
      "source": [
        "#report completo sul modello migliore\n",
        "y_pred = svm_clf.best_estimator_.predict(x_test)\n",
        "report = classification_report(y_test,y_pred)\n",
        "confusion = confusion_matrix(y_test,y_pred)\n",
        "displ = ConfusionMatrixDisplay(confusion)\n",
        "\n",
        "print(report)\n",
        "displ.plot()"
      ],
      "metadata": {
        "colab": {
          "base_uri": "https://localhost:8080/"
        },
        "id": "gSYuXqP2owdI",
        "outputId": "dde17919-0d9e-4477-93e5-c8a7d9ce6ebd"
      },
      "execution_count": null,
      "outputs": [
        {
          "output_type": "stream",
          "name": "stdout",
          "text": [
            "              precision    recall  f1-score   support\n",
            "\n",
            "           0       0.53      1.00      0.69       181\n",
            "           1       0.00      0.00      0.00       107\n",
            "           2       0.00      0.00      0.00        36\n",
            "           3       0.00      0.00      0.00        14\n",
            "           4       0.00      0.00      0.00         2\n",
            "\n",
            "    accuracy                           0.53       340\n",
            "   macro avg       0.11      0.20      0.14       340\n",
            "weighted avg       0.28      0.53      0.37       340\n",
            "\n"
          ]
        },
        {
          "output_type": "execute_result",
          "data": {
            "text/plain": [
              "<sklearn.metrics._plot.confusion_matrix.ConfusionMatrixDisplay at 0x7f19a95c5a50>"
            ]
          },
          "metadata": {},
          "execution_count": 26
        },
        {
          "output_type": "display_data",
          "data": {
            "text/plain": [
              "<Figure size 432x288 with 2 Axes>"
            ],
            "image/png": "[encoded data removed]"
          },
          "metadata": {
            "needs_background": "light"
          }
        },
        {
          "output_type": "stream",
          "name": "stdout",
          "text": [
            "time: 221 ms (started: 2022-11-23 19:06:51 +00:00)\n"
          ]
        }
      ]
    },
    {
      "cell_type": "code",
      "execution_count": null,
      "metadata": {
        "colab": {
          "base_uri": "https://localhost:8080/"
        },
        "id": "i6c4NkN4AAi9",
        "outputId": "34427748-286c-49f7-bbd4-2462b5cf6f1d"
      },
      "outputs": [
        {
          "name": "stdout",
          "output_type": "stream",
          "text": [
            "0.5323529411764706\n"
          ]
        }
      ],
      "source": [
        "#ADDESTRAMENTO SULLA migliore combinazione\n",
        "kernel_name  = 'rbf' # 'linear', 'poly', 'rbf', 'sigmoid'\n",
        "\n",
        "best = svm.SVC(C=0.0001, kernel=kernel_name, gamma=1)\n",
        "\n",
        "#training\n",
        "best.fit(x_train,y_train)\n",
        "\n",
        "#predict\n",
        "y_pred = best.predict(x_test)\n",
        "\n",
        "\n",
        "#performance\n",
        "report = classification_report(y_test,y_pred)\n",
        "print(accuracy_score(y_test,y_pred))"
      ]
    },
    {
      "cell_type": "code",
      "execution_count": null,
      "metadata": {
        "colab": {
          "base_uri": "https://localhost:8080/"
        },
        "id": "JiXzQvmXl5Fc",
        "outputId": "8546425d-ac7f-4e9a-dbf8-2824b8496a15"
      },
      "outputs": [
        {
          "output_type": "stream",
          "name": "stdout",
          "text": [
            "Looking in indexes: https://pypi.org/simple, https://us-python.pkg.dev/colab-wheels/public/simple/\n",
            "Requirement already satisfied: bayesian-optimization in /usr/local/lib/python3.7/dist-packages (1.3.1)\n",
            "Requirement already satisfied: scikit-learn>=0.18.0 in /usr/local/lib/python3.7/dist-packages (from bayesian-optimization) (1.0.2)\n",
            "Requirement already satisfied: scipy>=1.0.0 in /usr/local/lib/python3.7/dist-packages (from bayesian-optimization) (1.7.3)\n",
            "Requirement already satisfied: numpy>=1.9.0 in /usr/local/lib/python3.7/dist-packages (from bayesian-optimization) (1.21.6)\n",
            "Requirement already satisfied: joblib>=0.11 in /usr/local/lib/python3.7/dist-packages (from scikit-learn>=0.18.0->bayesian-optimization) (1.2.0)\n",
            "Requirement already satisfied: threadpoolctl>=2.0.0 in /usr/local/lib/python3.7/dist-packages (from scikit-learn>=0.18.0->bayesian-optimization) (3.1.0)\n",
            "|   iter    |  target   |     C     |   gamma   |\n",
            "-------------------------------------------------\n",
            "| \u001b[0m1        \u001b[0m | \u001b[0m0.4706   \u001b[0m | \u001b[0m9.67e+03 \u001b[0m | \u001b[0m0.5477   \u001b[0m |\n",
            "| \u001b[95m2        \u001b[0m | \u001b[95m0.5029   \u001b[0m | \u001b[95m9.727e+03\u001b[0m | \u001b[95m0.7151   \u001b[0m |\n",
            "| \u001b[0m3        \u001b[0m | \u001b[0m0.4735   \u001b[0m | \u001b[0m6.977e+03\u001b[0m | \u001b[0m0.2169   \u001b[0m |\n",
            "| \u001b[0m4        \u001b[0m | \u001b[0m0.4324   \u001b[0m | \u001b[0m9.763e+03\u001b[0m | \u001b[0m0.007224 \u001b[0m |\n",
            "| \u001b[0m5        \u001b[0m | \u001b[0m0.4559   \u001b[0m | \u001b[0m2.53e+03 \u001b[0m | \u001b[0m0.4354   \u001b[0m |\n",
            "| \u001b[0m6        \u001b[0m | \u001b[0m0.4794   \u001b[0m | \u001b[0m7.794e+03\u001b[0m | \u001b[0m0.1985   \u001b[0m |\n",
            "| \u001b[95m7        \u001b[0m | \u001b[95m0.5147   \u001b[0m | \u001b[95m8.63e+03 \u001b[0m | \u001b[95m0.9834   \u001b[0m |\n",
            "| \u001b[0m8        \u001b[0m | \u001b[0m0.4765   \u001b[0m | \u001b[0m1.638e+03\u001b[0m | \u001b[0m0.5977   \u001b[0m |\n",
            "| \u001b[0m9        \u001b[0m | \u001b[0m0.4765   \u001b[0m | \u001b[0m8.629e+03\u001b[0m | \u001b[0m0.5969   \u001b[0m |\n",
            "| \u001b[95m10       \u001b[0m | \u001b[95m0.5176   \u001b[0m | \u001b[95m9.727e+03\u001b[0m | \u001b[95m0.991    \u001b[0m |\n",
            "| \u001b[0m11       \u001b[0m | \u001b[0m0.4588   \u001b[0m | \u001b[0m8.631e+03\u001b[0m | \u001b[0m0.3439   \u001b[0m |\n",
            "| \u001b[0m12       \u001b[0m | \u001b[0m0.5      \u001b[0m | \u001b[0m9.727e+03\u001b[0m | \u001b[0m0.7352   \u001b[0m |\n",
            "| \u001b[0m13       \u001b[0m | \u001b[0m0.4618   \u001b[0m | \u001b[0m2.61e+03 \u001b[0m | \u001b[0m0.3807   \u001b[0m |\n",
            "| \u001b[0m14       \u001b[0m | \u001b[0m0.5118   \u001b[0m | \u001b[0m8.63e+03 \u001b[0m | \u001b[0m0.9288   \u001b[0m |\n",
            "| \u001b[0m15       \u001b[0m | \u001b[0m0.5147   \u001b[0m | \u001b[0m9.728e+03\u001b[0m | \u001b[0m0.9859   \u001b[0m |\n",
            "| \u001b[0m16       \u001b[0m | \u001b[0m0.4706   \u001b[0m | \u001b[0m9.729e+03\u001b[0m | \u001b[0m0.3049   \u001b[0m |\n",
            "| \u001b[0m17       \u001b[0m | \u001b[0m0.4912   \u001b[0m | \u001b[0m9.725e+03\u001b[0m | \u001b[0m0.1018   \u001b[0m |\n",
            "| \u001b[0m18       \u001b[0m | \u001b[0m0.4559   \u001b[0m | \u001b[0m9.726e+03\u001b[0m | \u001b[0m0.4315   \u001b[0m |\n",
            "| \u001b[0m19       \u001b[0m | \u001b[0m0.4765   \u001b[0m | \u001b[0m9.727e+03\u001b[0m | \u001b[0m0.5988   \u001b[0m |\n",
            "| \u001b[0m20       \u001b[0m | \u001b[0m0.4706   \u001b[0m | \u001b[0m6.176e+03\u001b[0m | \u001b[0m0.297    \u001b[0m |\n",
            "| \u001b[0m21       \u001b[0m | \u001b[0m0.4941   \u001b[0m | \u001b[0m7.155e+03\u001b[0m | \u001b[0m0.1585   \u001b[0m |\n",
            "| \u001b[0m22       \u001b[0m | \u001b[0m0.4794   \u001b[0m | \u001b[0m9.728e+03\u001b[0m | \u001b[0m0.5907   \u001b[0m |\n",
            "| \u001b[0m23       \u001b[0m | \u001b[0m0.5176   \u001b[0m | \u001b[0m9.727e+03\u001b[0m | \u001b[0m0.9918   \u001b[0m |\n",
            "| \u001b[0m24       \u001b[0m | \u001b[0m0.4824   \u001b[0m | \u001b[0m9.725e+03\u001b[0m | \u001b[0m0.05266  \u001b[0m |\n",
            "| \u001b[0m25       \u001b[0m | \u001b[0m0.5      \u001b[0m | \u001b[0m7.156e+03\u001b[0m | \u001b[0m0.7319   \u001b[0m |\n",
            "| \u001b[0m26       \u001b[0m | \u001b[0m0.5088   \u001b[0m | \u001b[0m9.724e+03\u001b[0m | \u001b[0m0.9075   \u001b[0m |\n",
            "| \u001b[0m27       \u001b[0m | \u001b[0m0.4912   \u001b[0m | \u001b[0m9.724e+03\u001b[0m | \u001b[0m0.139    \u001b[0m |\n",
            "| \u001b[0m28       \u001b[0m | \u001b[0m0.5      \u001b[0m | \u001b[0m7.157e+03\u001b[0m | \u001b[0m0.8082   \u001b[0m |\n",
            "| \u001b[0m29       \u001b[0m | \u001b[0m0.5      \u001b[0m | \u001b[0m7.159e+03\u001b[0m | \u001b[0m0.7838   \u001b[0m |\n",
            "| \u001b[0m30       \u001b[0m | \u001b[0m0.5118   \u001b[0m | \u001b[0m7.155e+03\u001b[0m | \u001b[0m0.8961   \u001b[0m |\n",
            "| \u001b[0m31       \u001b[0m | \u001b[0m0.4912   \u001b[0m | \u001b[0m7.158e+03\u001b[0m | \u001b[0m0.1157   \u001b[0m |\n",
            "| \u001b[0m32       \u001b[0m | \u001b[0m0.5118   \u001b[0m | \u001b[0m7.154e+03\u001b[0m | \u001b[0m0.9184   \u001b[0m |\n",
            "| \u001b[0m33       \u001b[0m | \u001b[0m0.4794   \u001b[0m | \u001b[0m7.153e+03\u001b[0m | \u001b[0m0.5748   \u001b[0m |\n",
            "| \u001b[0m34       \u001b[0m | \u001b[0m0.4618   \u001b[0m | \u001b[0m5.339e+03\u001b[0m | \u001b[0m0.3811   \u001b[0m |\n",
            "| \u001b[0m35       \u001b[0m | \u001b[0m0.4912   \u001b[0m | \u001b[0m7.426e+03\u001b[0m | \u001b[0m0.6782   \u001b[0m |\n",
            "| \u001b[0m36       \u001b[0m | \u001b[0m0.5      \u001b[0m | \u001b[0m7.159e+03\u001b[0m | \u001b[0m0.7967   \u001b[0m |\n",
            "| \u001b[0m37       \u001b[0m | \u001b[0m0.4882   \u001b[0m | \u001b[0m7.154e+03\u001b[0m | \u001b[0m0.1084   \u001b[0m |\n",
            "| \u001b[0m38       \u001b[0m | \u001b[0m0.4588   \u001b[0m | \u001b[0m5.138e+03\u001b[0m | \u001b[0m0.4439   \u001b[0m |\n",
            "| \u001b[0m39       \u001b[0m | \u001b[0m0.4941   \u001b[0m | \u001b[0m7.16e+03 \u001b[0m | \u001b[0m0.756    \u001b[0m |\n",
            "| \u001b[0m40       \u001b[0m | \u001b[0m0.4647   \u001b[0m | \u001b[0m8.147e+03\u001b[0m | \u001b[0m0.4853   \u001b[0m |\n",
            "| \u001b[0m41       \u001b[0m | \u001b[0m0.4912   \u001b[0m | \u001b[0m9.723e+03\u001b[0m | \u001b[0m0.6805   \u001b[0m |\n",
            "| \u001b[0m42       \u001b[0m | \u001b[0m0.4618   \u001b[0m | \u001b[0m7.425e+03\u001b[0m | \u001b[0m0.4708   \u001b[0m |\n",
            "| \u001b[0m43       \u001b[0m | \u001b[0m0.4676   \u001b[0m | \u001b[0m7.162e+03\u001b[0m | \u001b[0m0.3024   \u001b[0m |\n",
            "| \u001b[0m44       \u001b[0m | \u001b[0m0.4618   \u001b[0m | \u001b[0m4.256e+03\u001b[0m | \u001b[0m0.4578   \u001b[0m |\n",
            "| \u001b[0m45       \u001b[0m | \u001b[0m0.4824   \u001b[0m | \u001b[0m9.722e+03\u001b[0m | \u001b[0m0.619    \u001b[0m |\n",
            "| \u001b[0m46       \u001b[0m | \u001b[0m0.4882   \u001b[0m | \u001b[0m7.157e+03\u001b[0m | \u001b[0m0.1343   \u001b[0m |\n",
            "| \u001b[0m47       \u001b[0m | \u001b[0m0.5      \u001b[0m | \u001b[0m7.428e+03\u001b[0m | \u001b[0m0.7817   \u001b[0m |\n",
            "| \u001b[0m48       \u001b[0m | \u001b[0m0.4765   \u001b[0m | \u001b[0m7.157e+03\u001b[0m | \u001b[0m0.1993   \u001b[0m |\n",
            "| \u001b[0m49       \u001b[0m | \u001b[0m0.4588   \u001b[0m | \u001b[0m5.626e+03\u001b[0m | \u001b[0m0.0273   \u001b[0m |\n",
            "| \u001b[95m50       \u001b[0m | \u001b[95m0.5206   \u001b[0m | \u001b[95m2.693e+03\u001b[0m | \u001b[95m0.998    \u001b[0m |\n",
            "| \u001b[0m51       \u001b[0m | \u001b[0m0.4941   \u001b[0m | \u001b[0m2.693e+03\u001b[0m | \u001b[0m0.7434   \u001b[0m |\n",
            "| \u001b[0m52       \u001b[0m | \u001b[0m0.4618   \u001b[0m | \u001b[0m2.783e+03\u001b[0m | \u001b[0m0.4465   \u001b[0m |\n",
            "| \u001b[0m53       \u001b[0m | \u001b[0m0.4794   \u001b[0m | \u001b[0m7.157e+03\u001b[0m | \u001b[0m0.5761   \u001b[0m |\n",
            "| \u001b[0m54       \u001b[0m | \u001b[0m0.5118   \u001b[0m | \u001b[0m2.692e+03\u001b[0m | \u001b[0m0.8591   \u001b[0m |\n",
            "| \u001b[0m55       \u001b[0m | \u001b[0m0.4912   \u001b[0m | \u001b[0m2.692e+03\u001b[0m | \u001b[0m0.1782   \u001b[0m |\n",
            "| \u001b[0m56       \u001b[0m | \u001b[0m0.5118   \u001b[0m | \u001b[0m7.155e+03\u001b[0m | \u001b[0m0.8677   \u001b[0m |\n",
            "| \u001b[0m57       \u001b[0m | \u001b[0m0.5118   \u001b[0m | \u001b[0m7.43e+03 \u001b[0m | \u001b[0m0.9118   \u001b[0m |\n",
            "| \u001b[0m58       \u001b[0m | \u001b[0m0.4824   \u001b[0m | \u001b[0m7.429e+03\u001b[0m | \u001b[0m0.5798   \u001b[0m |\n",
            "| \u001b[0m59       \u001b[0m | \u001b[0m0.5088   \u001b[0m | \u001b[0m3.319e+03\u001b[0m | \u001b[0m0.8506   \u001b[0m |\n",
            "| \u001b[0m60       \u001b[0m | \u001b[0m0.4647   \u001b[0m | \u001b[0m2.693e+03\u001b[0m | \u001b[0m0.3237   \u001b[0m |\n",
            "| \u001b[0m61       \u001b[0m | \u001b[0m0.5147   \u001b[0m | \u001b[0m2.262e+03\u001b[0m | \u001b[0m0.9871   \u001b[0m |\n",
            "| \u001b[0m62       \u001b[0m | \u001b[0m0.4647   \u001b[0m | \u001b[0m6.225e+03\u001b[0m | \u001b[0m0.4598   \u001b[0m |\n",
            "| \u001b[0m63       \u001b[0m | \u001b[0m0.4794   \u001b[0m | \u001b[0m3.33e+03 \u001b[0m | \u001b[0m0.07548  \u001b[0m |\n",
            "| \u001b[0m64       \u001b[0m | \u001b[0m0.4941   \u001b[0m | \u001b[0m2.591e+03\u001b[0m | \u001b[0m0.7547   \u001b[0m |\n",
            "| \u001b[0m65       \u001b[0m | \u001b[0m0.4941   \u001b[0m | \u001b[0m2.263e+03\u001b[0m | \u001b[0m0.7434   \u001b[0m |\n",
            "| \u001b[0m66       \u001b[0m | \u001b[0m0.4971   \u001b[0m | \u001b[0m2.262e+03\u001b[0m | \u001b[0m0.7374   \u001b[0m |\n",
            "| \u001b[0m67       \u001b[0m | \u001b[0m0.5147   \u001b[0m | \u001b[0m9.724e+03\u001b[0m | \u001b[0m0.9381   \u001b[0m |\n",
            "| \u001b[0m68       \u001b[0m | \u001b[0m0.4588   \u001b[0m | \u001b[0m3.318e+03\u001b[0m | \u001b[0m0.3747   \u001b[0m |\n",
            "| \u001b[0m69       \u001b[0m | \u001b[0m0.5029   \u001b[0m | \u001b[0m3.32e+03 \u001b[0m | \u001b[0m0.8365   \u001b[0m |\n",
            "| \u001b[0m70       \u001b[0m | \u001b[0m0.5029   \u001b[0m | \u001b[0m2.692e+03\u001b[0m | \u001b[0m0.837    \u001b[0m |\n",
            "| \u001b[0m71       \u001b[0m | \u001b[0m0.4912   \u001b[0m | \u001b[0m7.155e+03\u001b[0m | \u001b[0m0.6551   \u001b[0m |\n",
            "| \u001b[0m72       \u001b[0m | \u001b[0m0.4941   \u001b[0m | \u001b[0m7.156e+03\u001b[0m | \u001b[0m0.7524   \u001b[0m |\n",
            "| \u001b[0m73       \u001b[0m | \u001b[0m0.5147   \u001b[0m | \u001b[0m792.3    \u001b[0m | \u001b[0m0.8732   \u001b[0m |\n",
            "| \u001b[0m74       \u001b[0m | \u001b[0m0.4676   \u001b[0m | \u001b[0m771.4    \u001b[0m | \u001b[0m0.5167   \u001b[0m |\n",
            "| \u001b[0m75       \u001b[0m | \u001b[0m0.4765   \u001b[0m | \u001b[0m1.784e+03\u001b[0m | \u001b[0m0.2509   \u001b[0m |\n",
            "| \u001b[0m76       \u001b[0m | \u001b[0m0.4912   \u001b[0m | \u001b[0m9.567e+03\u001b[0m | \u001b[0m0.1204   \u001b[0m |\n",
            "| \u001b[0m77       \u001b[0m | \u001b[0m0.5029   \u001b[0m | \u001b[0m9.725e+03\u001b[0m | \u001b[0m0.7219   \u001b[0m |\n",
            "| \u001b[0m78       \u001b[0m | \u001b[0m0.5      \u001b[0m | \u001b[0m2.693e+03\u001b[0m | \u001b[0m0.8022   \u001b[0m |\n",
            "| \u001b[0m79       \u001b[0m | \u001b[0m0.4618   \u001b[0m | \u001b[0m9.725e+03\u001b[0m | \u001b[0m0.4766   \u001b[0m |\n",
            "| \u001b[0m80       \u001b[0m | \u001b[0m0.4735   \u001b[0m | \u001b[0m3.36e+03 \u001b[0m | \u001b[0m0.2157   \u001b[0m |\n",
            "| \u001b[0m81       \u001b[0m | \u001b[0m0.4794   \u001b[0m | \u001b[0m520.0    \u001b[0m | \u001b[0m0.1966   \u001b[0m |\n",
            "| \u001b[0m82       \u001b[0m | \u001b[0m0.4971   \u001b[0m | \u001b[0m7.155e+03\u001b[0m | \u001b[0m0.7635   \u001b[0m |\n",
            "| \u001b[0m83       \u001b[0m | \u001b[0m0.5118   \u001b[0m | \u001b[0m2.693e+03\u001b[0m | \u001b[0m0.9007   \u001b[0m |\n",
            "| \u001b[0m84       \u001b[0m | \u001b[0m0.5147   \u001b[0m | \u001b[0m8.617e+03\u001b[0m | \u001b[0m0.9722   \u001b[0m |\n",
            "| \u001b[0m85       \u001b[0m | \u001b[0m0.4794   \u001b[0m | \u001b[0m5.58e+03 \u001b[0m | \u001b[0m0.06501  \u001b[0m |\n",
            "| \u001b[0m86       \u001b[0m | \u001b[0m0.4765   \u001b[0m | \u001b[0m4.245e+03\u001b[0m | \u001b[0m0.2465   \u001b[0m |\n",
            "| \u001b[0m87       \u001b[0m | \u001b[0m0.4588   \u001b[0m | \u001b[0m7.156e+03\u001b[0m | \u001b[0m0.4089   \u001b[0m |\n",
            "| \u001b[0m88       \u001b[0m | \u001b[0m0.4618   \u001b[0m | \u001b[0m5.256e+03\u001b[0m | \u001b[0m0.03471  \u001b[0m |\n",
            "| \u001b[0m89       \u001b[0m | \u001b[0m0.4882   \u001b[0m | \u001b[0m7.154e+03\u001b[0m | \u001b[0m0.6415   \u001b[0m |\n",
            "| \u001b[0m90       \u001b[0m | \u001b[0m0.5      \u001b[0m | \u001b[0m8.743e+03\u001b[0m | \u001b[0m0.7293   \u001b[0m |\n",
            "| \u001b[0m91       \u001b[0m | \u001b[0m0.5029   \u001b[0m | \u001b[0m5.739e+03\u001b[0m | \u001b[0m0.6999   \u001b[0m |\n",
            "| \u001b[0m92       \u001b[0m | \u001b[0m0.5118   \u001b[0m | \u001b[0m8.617e+03\u001b[0m | \u001b[0m0.9153   \u001b[0m |\n",
            "| \u001b[0m93       \u001b[0m | \u001b[0m0.5118   \u001b[0m | \u001b[0m2.693e+03\u001b[0m | \u001b[0m0.9291   \u001b[0m |\n",
            "| \u001b[0m94       \u001b[0m | \u001b[0m0.4941   \u001b[0m | \u001b[0m9.724e+03\u001b[0m | \u001b[0m0.7503   \u001b[0m |\n",
            "| \u001b[0m95       \u001b[0m | \u001b[0m0.5206   \u001b[0m | \u001b[0m792.7    \u001b[0m | \u001b[0m0.9943   \u001b[0m |\n",
            "| \u001b[0m96       \u001b[0m | \u001b[0m0.4824   \u001b[0m | \u001b[0m8.617e+03\u001b[0m | \u001b[0m0.6303   \u001b[0m |\n",
            "| \u001b[0m97       \u001b[0m | \u001b[0m0.4794   \u001b[0m | \u001b[0m1.945e+03\u001b[0m | \u001b[0m0.09275  \u001b[0m |\n",
            "| \u001b[0m98       \u001b[0m | \u001b[0m0.4676   \u001b[0m | \u001b[0m792.7    \u001b[0m | \u001b[0m0.5188   \u001b[0m |\n",
            "| \u001b[0m99       \u001b[0m | \u001b[0m0.4941   \u001b[0m | \u001b[0m8.617e+03\u001b[0m | \u001b[0m0.7419   \u001b[0m |\n",
            "| \u001b[0m100      \u001b[0m | \u001b[0m0.5118   \u001b[0m | \u001b[0m8.63e+03 \u001b[0m | \u001b[0m0.8539   \u001b[0m |\n",
            "| \u001b[0m101      \u001b[0m | \u001b[0m0.4618   \u001b[0m | \u001b[0m5.992e+03\u001b[0m | \u001b[0m0.02413  \u001b[0m |\n",
            "| \u001b[0m102      \u001b[0m | \u001b[0m0.4618   \u001b[0m | \u001b[0m3.32e+03 \u001b[0m | \u001b[0m0.4721   \u001b[0m |\n",
            "| \u001b[0m103      \u001b[0m | \u001b[0m0.5118   \u001b[0m | \u001b[0m9.725e+03\u001b[0m | \u001b[0m0.8642   \u001b[0m |\n",
            "| \u001b[0m104      \u001b[0m | \u001b[0m0.4618   \u001b[0m | \u001b[0m55.81    \u001b[0m | \u001b[0m0.3223   \u001b[0m |\n",
            "| \u001b[0m105      \u001b[0m | \u001b[0m0.4618   \u001b[0m | \u001b[0m8.169e+03\u001b[0m | \u001b[0m0.4556   \u001b[0m |\n",
            "| \u001b[0m106      \u001b[0m | \u001b[0m0.5147   \u001b[0m | \u001b[0m7.43e+03 \u001b[0m | \u001b[0m0.9254   \u001b[0m |\n",
            "| \u001b[0m107      \u001b[0m | \u001b[0m0.4765   \u001b[0m | \u001b[0m853.4    \u001b[0m | \u001b[0m0.23     \u001b[0m |\n",
            "| \u001b[0m108      \u001b[0m | \u001b[0m0.5147   \u001b[0m | \u001b[0m2.262e+03\u001b[0m | \u001b[0m0.9879   \u001b[0m |\n",
            "=================================================\n",
            "Best result: {'C': 2692.7389380079076, 'gamma': 0.9980267559540558}; f(x) = 0.5205882352941177.\n",
            "time: 53 s (started: 2022-11-23 19:12:50 +00:00)\n"
          ]
        }
      ],
      "source": [
        "#BAYESIAN OPTIMIZER PER KERNEL SVM\n",
        "!pip install bayesian-optimization\n",
        "from bayes_opt import BayesianOptimization, UtilityFunction\n",
        "import warnings\n",
        "warnings.filterwarnings(\"ignore\")\n",
        "from sklearn.metrics import roc_auc_score\n",
        "from sklearn.metrics import accuracy_score\n",
        "\n",
        "from scipy.special import expit\n",
        "from sklearn.preprocessing import scale\n",
        "\n",
        "def softmax(z):\n",
        "    return np.exp(z) / np.sum(np.exp(z), axis = 1, keepdims = True)\n",
        "\n",
        "def black_box_function(C, gamma):\n",
        "    # C,gamma: SVC hyper parameter to optimize for.\n",
        "    model = svm.SVC(C = C, kernel='rbf',gamma=gamma,probability=True)\n",
        "    model.fit(x_train, y_train)    \n",
        "    y_pred = model.predict(x_test)\n",
        "    accuracy = accuracy_score(y_test,y_pred)\n",
        "\n",
        "    #Un'altra misura\n",
        "    #y_score = model.decision_function(x_test)\n",
        "    #y_score = softmax(y_score)#restituisce la prob su 5 classi\n",
        "    #f = roc_auc_score(y_test, y_score, multi_class=\"ovo\")\n",
        "    return accuracy \n",
        "  \n",
        "# Set range of C to optimize for.\n",
        "# bayes_opt requires this to be a dictionary.\n",
        "pbounds = {\"C\": [1.e-04, 1.e+04],\"gamma\":[0.001,1]}\n",
        "\n",
        "optimizer = BayesianOptimization(f = black_box_function,\n",
        "                                 pbounds = pbounds, verbose = 2,\n",
        "                                 random_state = 4)\n",
        "bayesian_hpo_clf = optimizer.maximize(init_points = 8, n_iter = 100)\n",
        "print(\"Best result: {}; f(x) = {}.\".format(optimizer.max[\"params\"], optimizer.max[\"target\"]))"
      ]
    },
    {
      "cell_type": "code",
      "source": [
        "plt.figure(figsize = (15, 5))\n",
        "plt.plot(range(1, 1 + len(optimizer.space.target)), optimizer.space.target, \"-o\")\n",
        "plt.grid(True)\n",
        "plt.xlabel(\"Iteration\", fontsize = 14)\n",
        "plt.ylabel(\"Black box function f(x)\", fontsize = 14)\n",
        "plt.ylim([0,1])\n",
        "plt.xticks(fontsize = 14)\n",
        "plt.yticks(fontsize = 14)\n",
        "plt.show()"
      ],
      "metadata": {
        "colab": {
          "base_uri": "https://localhost:8080/"
        },
        "id": "EvE0UZsX6Rls",
        "outputId": "e364d34b-36be-42ca-bfb1-ec9563eb738f"
      },
      "execution_count": null,
      "outputs": [
        {
          "output_type": "display_data",
          "data": {
            "text/plain": [
              "<Figure size 1080x360 with 1 Axes>"
            ],
            "image/png": "[encoded data removed]"
          },
          "metadata": {
            "needs_background": "light"
          }
        },
        {
          "output_type": "stream",
          "name": "stdout",
          "text": [
            "time: 325 ms (started: 2022-11-23 19:18:09 +00:00)\n"
          ]
        }
      ]
    },
    {
      "cell_type": "markdown",
      "metadata": {
        "id": "ifZnMf6_AgFQ"
      },
      "source": [
        "#ENSEMBLE"
      ]
    },
    {
      "cell_type": "code",
      "execution_count": null,
      "metadata": {
        "id": "xo9Keh-nBR8s",
        "colab": {
          "base_uri": "https://localhost:8080/"
        },
        "outputId": "02577f14-0def-49d6-d7a7-72567148096f"
      },
      "outputs": [
        {
          "output_type": "stream",
          "name": "stdout",
          "text": [
            "time: 1.46 ms (started: 2022-11-24 14:36:59 +00:00)\n"
          ]
        }
      ],
      "source": [
        "from sklearn.ensemble import BaggingClassifier, AdaBoostClassifier\n",
        "\n",
        "np.set_printoptions(4)\n",
        "random_state = 7\n",
        "np.random.seed(random_state)"
      ]
    },
    {
      "cell_type": "code",
      "execution_count": null,
      "metadata": {
        "colab": {
          "base_uri": "https://localhost:8080/"
        },
        "id": "aFoKtK0RAu-8",
        "outputId": "b33515ce-3107-4205-b6fd-c008fd91c80a"
      },
      "outputs": [
        {
          "output_type": "stream",
          "name": "stdout",
          "text": [
            "Accuracy 0.482\n",
            "time: 148 ms (started: 2022-11-24 14:37:02 +00:00)\n"
          ]
        }
      ],
      "source": [
        "classifier_name = 'S'\n",
        "\n",
        "all_classifiers = {\n",
        "    'G': [GaussianNB, 'Gaussian Naive Bayes'],\n",
        "    'P': [Perceptron, 'Perceptron'],\n",
        "    'S': [svm.LinearSVC, 'SVM']\n",
        "    }\n",
        "\n",
        "algorithm = 'SAMME' if classifier_name == 'S' or classifier_name == 'P' else 'SAMME.R'\n",
        "\n",
        "model = all_classifiers[classifier_name][0]()\n",
        "model.fit(x_train, y_train)\n",
        "\n",
        "acc = model.score(x_test, y_test)    \n",
        "print(\"Accuracy %.3f\" %acc)"
      ]
    },
    {
      "cell_type": "code",
      "execution_count": null,
      "metadata": {
        "colab": {
          "base_uri": "https://localhost:8080/"
        },
        "id": "6BAbcdzXBCyJ",
        "outputId": "e79ceb2a-179f-4ed7-a218-9cc597fa9084"
      },
      "outputs": [
        {
          "name": "stdout",
          "output_type": "stream",
          "text": [
            "Bagging parameters: {'max_samples': array([ 73,   5,  80, 316, 255]), 'n_estimators': [10, 20, 30]}\n",
            "Boosting parameters:  {'learning_rate': array([0.6723, 0.694 , 0.346 , 0.9295, 0.2626]), 'n_estimators': [10, 20, 30]}\n"
          ]
        }
      ],
      "source": [
        "print(f\"Bagging parameters: {bagging_params}\" )\n",
        "print(f\"Boosting parameters:  {boosting_params}\")"
      ]
    },
    {
      "cell_type": "code",
      "execution_count": null,
      "metadata": {
        "colab": {
          "base_uri": "https://localhost:8080/"
        },
        "id": "lpDLWWTQBJ4f",
        "outputId": "dd6e0d57-deda-4cb2-dd7d-25f225f553f9"
      },
      "outputs": [
        {
          "output_type": "stream",
          "name": "stderr",
          "text": [
            "/usr/local/lib/python3.7/dist-packages/sklearn/svm/_base.py:1208: ConvergenceWarning: Liblinear failed to converge, increase the number of iterations.\n",
            "  ConvergenceWarning,\n",
            "/usr/local/lib/python3.7/dist-packages/sklearn/svm/_base.py:1208: ConvergenceWarning: Liblinear failed to converge, increase the number of iterations.\n",
            "  ConvergenceWarning,\n",
            "/usr/local/lib/python3.7/dist-packages/sklearn/svm/_base.py:1208: ConvergenceWarning: Liblinear failed to converge, increase the number of iterations.\n",
            "  ConvergenceWarning,\n",
            "/usr/local/lib/python3.7/dist-packages/sklearn/svm/_base.py:1208: ConvergenceWarning: Liblinear failed to converge, increase the number of iterations.\n",
            "  ConvergenceWarning,\n",
            "/usr/local/lib/python3.7/dist-packages/sklearn/svm/_base.py:1208: ConvergenceWarning: Liblinear failed to converge, increase the number of iterations.\n",
            "  ConvergenceWarning,\n",
            "/usr/local/lib/python3.7/dist-packages/sklearn/svm/_base.py:1208: ConvergenceWarning: Liblinear failed to converge, increase the number of iterations.\n",
            "  ConvergenceWarning,\n",
            "/usr/local/lib/python3.7/dist-packages/sklearn/svm/_base.py:1208: ConvergenceWarning: Liblinear failed to converge, increase the number of iterations.\n",
            "  ConvergenceWarning,\n",
            "/usr/local/lib/python3.7/dist-packages/sklearn/svm/_base.py:1208: ConvergenceWarning: Liblinear failed to converge, increase the number of iterations.\n",
            "  ConvergenceWarning,\n",
            "/usr/local/lib/python3.7/dist-packages/sklearn/svm/_base.py:1208: ConvergenceWarning: Liblinear failed to converge, increase the number of iterations.\n",
            "  ConvergenceWarning,\n",
            "/usr/local/lib/python3.7/dist-packages/sklearn/svm/_base.py:1208: ConvergenceWarning: Liblinear failed to converge, increase the number of iterations.\n",
            "  ConvergenceWarning,\n",
            "/usr/local/lib/python3.7/dist-packages/sklearn/svm/_base.py:1208: ConvergenceWarning: Liblinear failed to converge, increase the number of iterations.\n",
            "  ConvergenceWarning,\n",
            "/usr/local/lib/python3.7/dist-packages/sklearn/svm/_base.py:1208: ConvergenceWarning: Liblinear failed to converge, increase the number of iterations.\n",
            "  ConvergenceWarning,\n",
            "/usr/local/lib/python3.7/dist-packages/sklearn/svm/_base.py:1208: ConvergenceWarning: Liblinear failed to converge, increase the number of iterations.\n",
            "  ConvergenceWarning,\n",
            "/usr/local/lib/python3.7/dist-packages/sklearn/svm/_base.py:1208: ConvergenceWarning: Liblinear failed to converge, increase the number of iterations.\n",
            "  ConvergenceWarning,\n",
            "/usr/local/lib/python3.7/dist-packages/sklearn/svm/_base.py:1208: ConvergenceWarning: Liblinear failed to converge, increase the number of iterations.\n",
            "  ConvergenceWarning,\n",
            "/usr/local/lib/python3.7/dist-packages/sklearn/svm/_base.py:1208: ConvergenceWarning: Liblinear failed to converge, increase the number of iterations.\n",
            "  ConvergenceWarning,\n",
            "/usr/local/lib/python3.7/dist-packages/sklearn/svm/_base.py:1208: ConvergenceWarning: Liblinear failed to converge, increase the number of iterations.\n",
            "  ConvergenceWarning,\n",
            "/usr/local/lib/python3.7/dist-packages/sklearn/svm/_base.py:1208: ConvergenceWarning: Liblinear failed to converge, increase the number of iterations.\n",
            "  ConvergenceWarning,\n",
            "/usr/local/lib/python3.7/dist-packages/sklearn/svm/_base.py:1208: ConvergenceWarning: Liblinear failed to converge, increase the number of iterations.\n",
            "  ConvergenceWarning,\n",
            "/usr/local/lib/python3.7/dist-packages/sklearn/svm/_base.py:1208: ConvergenceWarning: Liblinear failed to converge, increase the number of iterations.\n",
            "  ConvergenceWarning,\n",
            "/usr/local/lib/python3.7/dist-packages/sklearn/svm/_base.py:1208: ConvergenceWarning: Liblinear failed to converge, increase the number of iterations.\n",
            "  ConvergenceWarning,\n",
            "/usr/local/lib/python3.7/dist-packages/sklearn/svm/_base.py:1208: ConvergenceWarning: Liblinear failed to converge, increase the number of iterations.\n",
            "  ConvergenceWarning,\n",
            "/usr/local/lib/python3.7/dist-packages/sklearn/svm/_base.py:1208: ConvergenceWarning: Liblinear failed to converge, increase the number of iterations.\n",
            "  ConvergenceWarning,\n",
            "/usr/local/lib/python3.7/dist-packages/sklearn/svm/_base.py:1208: ConvergenceWarning: Liblinear failed to converge, increase the number of iterations.\n",
            "  ConvergenceWarning,\n"
          ]
        },
        {
          "output_type": "stream",
          "name": "stdout",
          "text": [
            "Accuracy 0.476\n",
            "time: 4 s (started: 2022-11-24 14:37:15 +00:00)\n"
          ]
        },
        {
          "output_type": "stream",
          "name": "stderr",
          "text": [
            "/usr/local/lib/python3.7/dist-packages/sklearn/svm/_base.py:1208: ConvergenceWarning: Liblinear failed to converge, increase the number of iterations.\n",
            "  ConvergenceWarning,\n"
          ]
        }
      ],
      "source": [
        "bagging_classifier = BaggingClassifier(\n",
        "    base_estimator=all_classifiers[classifier_name][0](), \n",
        "    max_samples=int(len(x_train)/2), \n",
        "    n_estimators=50,  \n",
        "    random_state=random_state,\n",
        "    ).fit(x_train, y_train)\n",
        "\n",
        "bagging_acc = bagging_classifier.score(x_test, y_test)\n",
        "print(\"Accuracy %.3f\" %bagging_acc)"
      ]
    },
    {
      "cell_type": "code",
      "execution_count": null,
      "metadata": {
        "colab": {
          "base_uri": "https://localhost:8080/"
        },
        "id": "LeBvPT3eB8_W",
        "outputId": "2f1eb7cb-e7db-4f79-8b1c-a47970a38354"
      },
      "outputs": [
        {
          "output_type": "stream",
          "name": "stdout",
          "text": [
            "Accuracy 0.532\n",
            "time: 188 ms (started: 2022-11-24 14:37:19 +00:00)\n"
          ]
        }
      ],
      "source": [
        "adaboost_classifier = AdaBoostClassifier(\n",
        "    base_estimator=all_classifiers[classifier_name][0](), \n",
        "    n_estimators=30, \n",
        "    learning_rate=0.001, \n",
        "    algorithm= algorithm,  # 'SAMME.R', \n",
        "    random_state=random_state\n",
        "    ).fit(x_train, y_train)\n",
        "\n",
        "ada_accuracy = adaboost_classifier.score(x_test, y_test)\n",
        "print(\"Accuracy %.3f\" %ada_accuracy)"
      ]
    },
    {
      "cell_type": "markdown",
      "metadata": {
        "id": "wrGvqgaUW6R6"
      },
      "source": [
        "#ENSEMBLE GRID SEARCH"
      ]
    },
    {
      "cell_type": "code",
      "execution_count": null,
      "metadata": {
        "id": "YdJH5ZbbA-wD",
        "colab": {
          "base_uri": "https://localhost:8080/"
        },
        "outputId": "6c604f6a-3a05-4ae7-ddf5-30d1a09c7887"
      },
      "outputs": [
        {
          "output_type": "stream",
          "name": "stdout",
          "text": [
            "time: 11.6 ms (started: 2022-11-23 19:27:25 +00:00)\n"
          ]
        }
      ],
      "source": [
        "# Ensemble classifier parameters\n",
        "n_estimators = [10, 20, 30]  # np.random.randint(5, 50, 5)\n",
        "\n",
        "# Bagging parameters\n",
        "bagging_params = {\n",
        "  'max_samples': np.random.randint(5,int(len(x_train)/2), 5),\n",
        "  'n_estimators': n_estimators,\n",
        "}\n",
        "# Boosting parameters\n",
        "boosting_params = {\n",
        "  'learning_rate': np.random.uniform(size=5),\n",
        "  'n_estimators': n_estimators,\n",
        "  }"
      ]
    },
    {
      "cell_type": "code",
      "execution_count": null,
      "metadata": {
        "id": "YQtibQLIXI75",
        "colab": {
          "base_uri": "https://localhost:8080/"
        },
        "outputId": "802592fb-27b8-4572-90cb-f5079f07efff"
      },
      "outputs": [
        {
          "output_type": "stream",
          "name": "stdout",
          "text": [
            "time: 1.07 ms (started: 2022-11-24 14:37:46 +00:00)\n"
          ]
        }
      ],
      "source": [
        "from sklearn.model_selection import cross_val_score, KFold, GridSearchCV"
      ]
    },
    {
      "cell_type": "code",
      "execution_count": null,
      "metadata": {
        "id": "Eh2s2rvVXCGx",
        "colab": {
          "base_uri": "https://localhost:8080/"
        },
        "outputId": "be46c13a-fca8-4265-c0f2-feab5f8f0025"
      },
      "outputs": [
        {
          "output_type": "error",
          "ename": "NameError",
          "evalue": "ignored",
          "traceback": [
            "\u001b[0;31m---------------------------------------------------------------------------\u001b[0m",
            "\u001b[0;31mNameError\u001b[0m                                 Traceback (most recent call last)",
            "\u001b[0;32m<ipython-input-13-f75ee46a1bc2>\u001b[0m in \u001b[0;36m<module>\u001b[0;34m\u001b[0m\n\u001b[0;32m----> 1\u001b[0;31m \u001b[0mcv\u001b[0m \u001b[0;34m=\u001b[0m \u001b[0mKFold\u001b[0m\u001b[0;34m(\u001b[0m\u001b[0mn_splits\u001b[0m\u001b[0;34m=\u001b[0m\u001b[0;36m5\u001b[0m\u001b[0;34m,\u001b[0m \u001b[0mshuffle\u001b[0m\u001b[0;34m=\u001b[0m\u001b[0;32mTrue\u001b[0m\u001b[0;34m,\u001b[0m \u001b[0mrandom_state\u001b[0m\u001b[0;34m=\u001b[0m\u001b[0mrandom_state\u001b[0m\u001b[0;34m)\u001b[0m\u001b[0;34m\u001b[0m\u001b[0;34m\u001b[0m\u001b[0m\n\u001b[0m\u001b[1;32m      2\u001b[0m grid_search_boosting = GridSearchCV(\n\u001b[1;32m      3\u001b[0m     \u001b[0madaboost_classifier\u001b[0m\u001b[0;34m,\u001b[0m\u001b[0;34m\u001b[0m\u001b[0;34m\u001b[0m\u001b[0m\n\u001b[1;32m      4\u001b[0m     \u001b[0mboosting_params\u001b[0m\u001b[0;34m,\u001b[0m\u001b[0;34m\u001b[0m\u001b[0;34m\u001b[0m\u001b[0m\n\u001b[1;32m      5\u001b[0m     \u001b[0mscoring\u001b[0m\u001b[0;34m=\u001b[0m\u001b[0;34m'accuracy'\u001b[0m\u001b[0;34m,\u001b[0m\u001b[0;34m\u001b[0m\u001b[0;34m\u001b[0m\u001b[0m\n",
            "\u001b[0;31mNameError\u001b[0m: name 'KFold' is not defined"
          ]
        },
        {
          "output_type": "stream",
          "name": "stdout",
          "text": [
            "time: 15.6 ms (started: 2022-11-24 14:36:52 +00:00)\n"
          ]
        }
      ],
      "source": [
        "cv = KFold(n_splits=5, shuffle=True, random_state=random_state)\n",
        "grid_search_boosting = GridSearchCV(\n",
        "    adaboost_classifier,\n",
        "    boosting_params, \n",
        "    scoring='accuracy', \n",
        "    cv=cv, \n",
        "    return_train_score=False,\n",
        "    verbose=0\n",
        ")\n",
        "grid_search_bagging = GridSearchCV(\n",
        "    bagging_classifier,\n",
        "    bagging_params, \n",
        "    scoring='accuracy', \n",
        "    cv=cv, \n",
        "    return_train_score=False,\n",
        "    # change max_features\n",
        "    verbose=0\n",
        ")"
      ]
    },
    {
      "cell_type": "code",
      "execution_count": null,
      "metadata": {
        "colab": {
          "base_uri": "https://localhost:8080/"
        },
        "id": "DsKAYLqoXUmD",
        "outputId": "d7db8da3-de28-4f48-fc69-94788c008965"
      },
      "outputs": [
        {
          "output_type": "stream",
          "name": "stdout",
          "text": [
            "Best classification hyper-parameters for bagging classifier: {'max_samples': 73, 'n_estimators': 20}\n",
            "Best accuracy: 0.5227\n",
            "time: 42.3 s (started: 2022-11-23 19:31:38 +00:00)\n"
          ]
        }
      ],
      "source": [
        "grid_search_bagging.fit(x_train, y_train)\n",
        "#Best parameters for the classifier\n",
        "print(\"Best classification hyper-parameters for bagging classifier: %r\" %grid_search_bagging.best_params_)\n",
        "print(\"Best accuracy: %.4f\" %grid_search_bagging.best_score_)\n",
        "\n"
      ]
    },
    {
      "cell_type": "code",
      "source": [
        "grid_search_boosting.fit(x_train, y_train)\n",
        "#Best parameters for the classifier\n",
        "print(\"Best classification hyper-parameters for boosting classifier: %r\" %grid_search_boosting.best_params_)\n",
        "print(\"Best accuracy: %.4f\" %grid_search_boosting.best_score_)"
      ],
      "metadata": {
        "colab": {
          "base_uri": "https://localhost:8080/"
        },
        "id": "t9aeuROW1Tqv",
        "outputId": "6605cced-4563-4422-de43-722edfd5db92"
      },
      "execution_count": null,
      "outputs": [
        {
          "output_type": "stream",
          "name": "stdout",
          "text": [
            "Best classification hyper-parameters for boosting classifier: {'learning_rate': 0.28814559930799355, 'n_estimators': 10}\n",
            "Best accuracy: 0.5379\n",
            "time: 9.07 s (started: 2022-11-23 19:27:31 +00:00)\n"
          ]
        }
      ]
    },
    {
      "cell_type": "code",
      "source": [
        "y_pred = grid_search_bagging.best_estimator_.predict(x_test)\n",
        "report = classification_report(y_test,y_pred)\n",
        "confusion = confusion_matrix(y_test,y_pred)\n",
        "displ = ConfusionMatrixDisplay(confusion)\n",
        "\n",
        "print(report)\n",
        "displ.plot()\n"
      ],
      "metadata": {
        "colab": {
          "base_uri": "https://localhost:8080/"
        },
        "id": "fKhnkfRj8XlW",
        "outputId": "07894915-27cd-427f-8473-34892b09c176"
      },
      "execution_count": null,
      "outputs": [
        {
          "output_type": "stream",
          "name": "stdout",
          "text": [
            "              precision    recall  f1-score   support\n",
            "\n",
            "           0       0.54      0.82      0.65       181\n",
            "           1       0.28      0.17      0.21       107\n",
            "           2       0.00      0.00      0.00        36\n",
            "           3       0.00      0.00      0.00        14\n",
            "           4       0.00      0.00      0.00         2\n",
            "\n",
            "    accuracy                           0.49       340\n",
            "   macro avg       0.16      0.20      0.17       340\n",
            "weighted avg       0.38      0.49      0.41       340\n",
            "\n"
          ]
        },
        {
          "output_type": "execute_result",
          "data": {
            "text/plain": [
              "<sklearn.metrics._plot.confusion_matrix.ConfusionMatrixDisplay at 0x7f19a5e22bd0>"
            ]
          },
          "metadata": {},
          "execution_count": 67
        },
        {
          "output_type": "display_data",
          "data": {
            "text/plain": [
              "<Figure size 432x288 with 2 Axes>"
            ],
            "image/png": "[encoded data removed]"
          },
          "metadata": {
            "needs_background": "light"
          }
        },
        {
          "output_type": "stream",
          "name": "stdout",
          "text": [
            "time: 245 ms (started: 2022-11-23 19:33:45 +00:00)\n"
          ]
        }
      ]
    },
    {
      "cell_type": "code",
      "source": [
        "y_pred = grid_search_boosting.best_estimator_.predict(x_test)\n",
        "report = classification_report(y_test,y_pred)\n",
        "confusion = confusion_matrix(y_test,y_pred)\n",
        "displ = ConfusionMatrixDisplay(confusion)\n",
        "\n",
        "print(report)\n",
        "#displ.title(\"Confusion matrix for boosting Svm Grid Search\")\n",
        "displ.plot()"
      ],
      "metadata": {
        "colab": {
          "base_uri": "https://localhost:8080/"
        },
        "id": "QlT17Kuh8rsv",
        "outputId": "d93425a5-c518-40c6-8416-3fa98c9432dc"
      },
      "execution_count": null,
      "outputs": [
        {
          "output_type": "stream",
          "name": "stdout",
          "text": [
            "              precision    recall  f1-score   support\n",
            "\n",
            "           0       0.52      0.95      0.67       181\n",
            "           1       0.09      0.01      0.02       107\n",
            "           2       0.00      0.00      0.00        36\n",
            "           3       0.00      0.00      0.00        14\n",
            "           4       0.00      0.00      0.00         2\n",
            "\n",
            "    accuracy                           0.51       340\n",
            "   macro avg       0.12      0.19      0.14       340\n",
            "weighted avg       0.31      0.51      0.36       340\n",
            "\n"
          ]
        },
        {
          "output_type": "execute_result",
          "data": {
            "text/plain": [
              "<sklearn.metrics._plot.confusion_matrix.ConfusionMatrixDisplay at 0x7f19a5dcacd0>"
            ]
          },
          "metadata": {},
          "execution_count": 66
        },
        {
          "output_type": "display_data",
          "data": {
            "text/plain": [
              "<Figure size 432x288 with 2 Axes>"
            ],
            "image/png": "[encoded data removed]"
          },
          "metadata": {
            "needs_background": "light"
          }
        },
        {
          "output_type": "stream",
          "name": "stdout",
          "text": [
            "time: 442 ms (started: 2022-11-23 19:32:54 +00:00)\n"
          ]
        }
      ]
    },
    {
      "cell_type": "markdown",
      "source": [
        "svm dataset bilanciato rbf kernel"
      ],
      "metadata": {
        "id": "zwwg47qcKRXP"
      }
    },
    {
      "cell_type": "code",
      "source": [
        "#ADDESTRAMENTO SULLA migliore combinazione\n",
        "from sklearn.metrics import accuracy_score\n",
        "kernel_name  = 'rbf' # 'linear', 'poly', 'rbf', 'sigmoid'\n",
        "\n",
        "best = svm.SVC(C=0.0001, kernel=\"rbf\", gamma=1)\n",
        "\n",
        "#training\n",
        "best.fit(X_balanced,y_balanced)\n",
        "\n",
        "#predict\n",
        "y_pred = best.predict(x_test)\n",
        "\n",
        "\n",
        "#performance\n",
        "report = classification_report(y_test,y_pred)\n",
        "print(accuracy_score(y_test,y_pred))"
      ],
      "metadata": {
        "colab": {
          "base_uri": "https://localhost:8080/"
        },
        "id": "pbrawF3IEBXb",
        "outputId": "b2e1202b-4abb-4106-da5d-29175d684b2e"
      },
      "execution_count": null,
      "outputs": [
        {
          "output_type": "stream",
          "name": "stdout",
          "text": [
            "0.6529411764705882\n",
            "time: 1.62 s (started: 2022-11-24 14:36:03 +00:00)\n"
          ]
        },
        {
          "output_type": "stream",
          "name": "stderr",
          "text": [
            "/usr/local/lib/python3.7/dist-packages/sklearn/base.py:444: UserWarning: X has feature names, but SVC was fitted without feature names\n",
            "  f\"X has feature names, but {self.__class__.__name__} was fitted without\"\n"
          ]
        }
      ]
    },
    {
      "cell_type": "code",
      "source": [
        "#report completo sul modello migliore\n",
        "y_pred = best.predict(x_test)\n",
        "report = classification_report(y_test,y_pred)\n",
        "confusion = confusion_matrix(y_test,y_pred)\n",
        "displ = ConfusionMatrixDisplay(confusion)\n",
        "\n",
        "print(report)\n",
        "displ.plot()"
      ],
      "metadata": {
        "colab": {
          "base_uri": "https://localhost:8080/"
        },
        "id": "mK_ELoqrKpTK",
        "outputId": "8adfecd6-9c83-40a5-8d9e-aeb8c676aabb"
      },
      "execution_count": null,
      "outputs": [
        {
          "output_type": "stream",
          "name": "stdout",
          "text": [
            "              precision    recall  f1-score   support\n",
            "\n",
            "           0       0.61      1.00      0.76       181\n",
            "           1       0.96      0.25      0.40       107\n",
            "           2       0.71      0.14      0.23        36\n",
            "           3       1.00      0.50      0.67        14\n",
            "           4       1.00      1.00      1.00         2\n",
            "\n",
            "    accuracy                           0.65       340\n",
            "   macro avg       0.86      0.58      0.61       340\n",
            "weighted avg       0.75      0.65      0.59       340\n",
            "\n"
          ]
        },
        {
          "output_type": "stream",
          "name": "stderr",
          "text": [
            "/usr/local/lib/python3.7/dist-packages/sklearn/base.py:444: UserWarning: X has feature names, but SVC was fitted without feature names\n",
            "  f\"X has feature names, but {self.__class__.__name__} was fitted without\"\n"
          ]
        },
        {
          "output_type": "execute_result",
          "data": {
            "text/plain": [
              "<sklearn.metrics._plot.confusion_matrix.ConfusionMatrixDisplay at 0x7fafc138cdd0>"
            ]
          },
          "metadata": {},
          "execution_count": 12
        },
        {
          "output_type": "display_data",
          "data": {
            "text/plain": [
              "<Figure size 432x288 with 2 Axes>"
            ],
            "image/png": "[encoded data removed]"
          },
          "metadata": {
            "needs_background": "light"
          }
        },
        {
          "output_type": "stream",
          "name": "stdout",
          "text": [
            "time: 392 ms (started: 2022-11-24 14:36:26 +00:00)\n"
          ]
        }
      ]
    },
    {
      "cell_type": "code",
      "source": [
        "cv = KFold(n_splits=10, shuffle=True, random_state=random_state)\n",
        "n_estimators = [10, 30, 50]  \n",
        "boosting_params = {\n",
        "  #'learning_rate': np.random.uniform(size=5),\n",
        "  'learning_rate': [0.0001],\n",
        "  'n_estimators': n_estimators,\n",
        "  }\n",
        "\n",
        "grid_search_boosting = GridSearchCV(\n",
        "    adaboost_classifier,\n",
        "    boosting_params, \n",
        "    scoring='accuracy', \n",
        "    cv=cv, \n",
        "    return_train_score=False,\n",
        "    verbose=0\n",
        ")"
      ],
      "metadata": {
        "colab": {
          "base_uri": "https://localhost:8080/"
        },
        "id": "drHrSS0nEA7o",
        "outputId": "7f2fcc58-a38c-4d5f-bdf1-f3ad57b26883"
      },
      "execution_count": null,
      "outputs": [
        {
          "output_type": "stream",
          "name": "stdout",
          "text": [
            "time: 12.4 ms (started: 2022-11-24 14:51:44 +00:00)\n"
          ]
        }
      ]
    },
    {
      "cell_type": "code",
      "source": [
        "grid_search_boosting.fit(X_balanced, y_balanced)\n",
        "#Best parameters for the classifier\n",
        "print(\"Best classification hyper-parameters for boosting classifier: %r\" %grid_search_boosting.best_params_)\n",
        "print(\"Best accuracy: %.4f\" %grid_search_boosting.best_score_)"
      ],
      "metadata": {
        "colab": {
          "base_uri": "https://localhost:8080/"
        },
        "id": "kO74IqLMEv5Q",
        "outputId": "a594ea32-30d1-4b5c-b608-f2e1cacc0874"
      },
      "execution_count": null,
      "outputs": [
        {
          "output_type": "stream",
          "name": "stdout",
          "text": [
            "Best classification hyper-parameters for boosting classifier: {'learning_rate': 0.0001, 'n_estimators': 10}\n",
            "Best accuracy: 0.4338\n",
            "time: 23.7 s (started: 2022-11-24 14:51:50 +00:00)\n"
          ]
        }
      ]
    },
    {
      "cell_type": "code",
      "source": [
        "y_pred = grid_search_boosting.best_estimator_.predict(x_test)\n",
        "report = classification_report(y_test,y_pred)\n",
        "confusion = confusion_matrix(y_test,y_pred)\n",
        "displ = ConfusionMatrixDisplay(confusion)\n",
        "\n",
        "print(report)\n",
        "displ.plot()"
      ],
      "metadata": {
        "colab": {
          "base_uri": "https://localhost:8080/"
        },
        "id": "SdK91J1wFh-t",
        "outputId": "7b264205-781e-423f-db30-e067d8971b3c"
      },
      "execution_count": null,
      "outputs": [
        {
          "output_type": "stream",
          "name": "stdout",
          "text": [
            "              precision    recall  f1-score   support\n",
            "\n",
            "           0       0.55      0.14      0.23       181\n",
            "           1       0.34      0.12      0.18       107\n",
            "           2       0.13      0.31      0.18        36\n",
            "           3       0.04      0.21      0.06        14\n",
            "           4       0.02      1.00      0.04         2\n",
            "\n",
            "    accuracy                           0.16       340\n",
            "   macro avg       0.22      0.36      0.14       340\n",
            "weighted avg       0.42      0.16      0.20       340\n",
            "\n"
          ]
        },
        {
          "output_type": "stream",
          "name": "stderr",
          "text": [
            "/usr/local/lib/python3.7/dist-packages/sklearn/base.py:444: UserWarning: X has feature names, but AdaBoostClassifier was fitted without feature names\n",
            "  f\"X has feature names, but {self.__class__.__name__} was fitted without\"\n"
          ]
        },
        {
          "output_type": "execute_result",
          "data": {
            "text/plain": [
              "<sklearn.metrics._plot.confusion_matrix.ConfusionMatrixDisplay at 0x7fafc0975090>"
            ]
          },
          "metadata": {},
          "execution_count": 36
        },
        {
          "output_type": "display_data",
          "data": {
            "text/plain": [
              "<Figure size 432x288 with 2 Axes>"
            ],
            "image/png": "[encoded data removed]"
          },
          "metadata": {
            "needs_background": "light"
          }
        },
        {
          "output_type": "stream",
          "name": "stdout",
          "text": [
            "time: 297 ms (started: 2022-11-24 14:52:13 +00:00)\n"
          ]
        }
      ]
    }
  ],
  "metadata": {
    "accelerator": "GPU",
    "colab": {
      "collapsed_sections": [
        "GT_jmUhQ7T-a",
        "P1_Hv2T47Xat",
        "ifZnMf6_AgFQ",
        "wrGvqgaUW6R6"
      ],
      "provenance": []
    },
    "gpuClass": "standard",
    "kernelspec": {
      "display_name": "Python 3",
      "name": "python3"
    },
    "language_info": {
      "name": "python"
    }
  },
  "nbformat": 4,
  "nbformat_minor": 0
}