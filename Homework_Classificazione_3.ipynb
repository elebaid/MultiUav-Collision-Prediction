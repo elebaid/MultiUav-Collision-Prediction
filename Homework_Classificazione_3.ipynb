{
  "nbformat": 4,
  "nbformat_minor": 0,
  "metadata": {
    "colab": {
      "provenance": []
    },
    "kernelspec": {
      "name": "python3",
      "display_name": "Python 3"
    },
    "language_info": {
      "name": "python"
    }
  },
  "cells": [
    {
      "cell_type": "code",
      "execution_count": 1,
      "metadata": {
        "id": "OyBAWAmgeobJ",
        "colab": {
          "base_uri": "https://localhost:8080/",
          "height": 0
        },
        "outputId": "0f9c5faf-ed23-4fc3-ab92-4254af8aa713"
      },
      "outputs": [
        {
          "output_type": "stream",
          "name": "stdout",
          "text": [
            "Libraries imported.\n"
          ]
        }
      ],
      "source": [
        "import numpy as np\n",
        "import pandas as pd\n",
        "import random\n",
        "\n",
        "from sklearn.model_selection import train_test_split\n",
        "from sklearn.feature_extraction.text import *\n",
        "from sklearn.naive_bayes import *\n",
        "from sklearn.metrics import confusion_matrix, classification_report, ConfusionMatrixDisplay\n",
        "\n",
        "#Per linear classification\n",
        "from sklearn.linear_model import Perceptron\n",
        "from sklearn import svm\n",
        "\n",
        "print('Libraries imported.')\n"
      ]
    },
    {
      "cell_type": "code",
      "source": [
        "!pip install ipython-autotime\n",
        "%load_ext autotime"
      ],
      "metadata": {
        "colab": {
          "base_uri": "https://localhost:8080/",
          "height": 0
        },
        "id": "5_ZDrAOZfEI6",
        "outputId": "38b73bbc-ee8f-4e27-9e7c-ca7f99cbf0da"
      },
      "execution_count": 2,
      "outputs": [
        {
          "output_type": "stream",
          "name": "stdout",
          "text": [
            "Looking in indexes: https://pypi.org/simple, https://us-python.pkg.dev/colab-wheels/public/simple/\n",
            "Collecting ipython-autotime\n",
            "  Downloading ipython_autotime-0.3.1-py2.py3-none-any.whl (6.8 kB)\n",
            "Requirement already satisfied: ipython in /usr/local/lib/python3.8/dist-packages (from ipython-autotime) (7.9.0)\n",
            "Requirement already satisfied: prompt-toolkit<2.1.0,>=2.0.0 in /usr/local/lib/python3.8/dist-packages (from ipython->ipython-autotime) (2.0.10)\n",
            "Requirement already satisfied: pickleshare in /usr/local/lib/python3.8/dist-packages (from ipython->ipython-autotime) (0.7.5)\n",
            "Requirement already satisfied: decorator in /usr/local/lib/python3.8/dist-packages (from ipython->ipython-autotime) (4.4.2)\n",
            "Requirement already satisfied: setuptools>=18.5 in /usr/local/lib/python3.8/dist-packages (from ipython->ipython-autotime) (57.4.0)\n",
            "Requirement already satisfied: traitlets>=4.2 in /usr/local/lib/python3.8/dist-packages (from ipython->ipython-autotime) (5.1.1)\n",
            "Requirement already satisfied: pexpect in /usr/local/lib/python3.8/dist-packages (from ipython->ipython-autotime) (4.8.0)\n",
            "Requirement already satisfied: pygments in /usr/local/lib/python3.8/dist-packages (from ipython->ipython-autotime) (2.6.1)\n",
            "Collecting jedi>=0.10\n",
            "  Downloading jedi-0.18.2-py2.py3-none-any.whl (1.6 MB)\n",
            "\u001b[K     |████████████████████████████████| 1.6 MB 6.3 MB/s \n",
            "\u001b[?25hRequirement already satisfied: backcall in /usr/local/lib/python3.8/dist-packages (from ipython->ipython-autotime) (0.2.0)\n",
            "Requirement already satisfied: parso<0.9.0,>=0.8.0 in /usr/local/lib/python3.8/dist-packages (from jedi>=0.10->ipython->ipython-autotime) (0.8.3)\n",
            "Requirement already satisfied: six>=1.9.0 in /usr/local/lib/python3.8/dist-packages (from prompt-toolkit<2.1.0,>=2.0.0->ipython->ipython-autotime) (1.15.0)\n",
            "Requirement already satisfied: wcwidth in /usr/local/lib/python3.8/dist-packages (from prompt-toolkit<2.1.0,>=2.0.0->ipython->ipython-autotime) (0.2.5)\n",
            "Requirement already satisfied: ptyprocess>=0.5 in /usr/local/lib/python3.8/dist-packages (from pexpect->ipython->ipython-autotime) (0.7.0)\n",
            "Installing collected packages: jedi, ipython-autotime\n",
            "Successfully installed ipython-autotime-0.3.1 jedi-0.18.2\n",
            "time: 633 µs (started: 2022-12-06 17:29:40 +00:00)\n"
          ]
        }
      ]
    },
    {
      "cell_type": "code",
      "source": [
        "from google.colab import drive\n",
        "drive.mount('/content/drive',force_remount=True)"
      ],
      "metadata": {
        "colab": {
          "base_uri": "https://localhost:8080/"
        },
        "id": "HNGCQcHAfHGg",
        "outputId": "f2d36876-7725-4411-e3da-0e84f83a81cd"
      },
      "execution_count": 275,
      "outputs": [
        {
          "output_type": "stream",
          "name": "stdout",
          "text": [
            "Mounted at /content/drive\n",
            "time: 4.42 s (started: 2022-12-06 19:23:25 +00:00)\n"
          ]
        }
      ]
    },
    {
      "cell_type": "code",
      "source": [
        "filename = '/content/drive/MyDrive/ColabNotebooks/MachineLearning/HomeWork1_Dataset.tsv'\n",
        "df = pd.read_csv(filename, sep='\\t', header=0)\n",
        "print('File loaded: %d samples.' %(len(df)))\n",
        "print(\"Number of columns: \", len(df.columns))"
      ],
      "metadata": {
        "colab": {
          "base_uri": "https://localhost:8080/"
        },
        "id": "FTTNYepTfKxI",
        "outputId": "7766735f-2c8c-4bca-ced0-045b4e7c4685"
      },
      "execution_count": 276,
      "outputs": [
        {
          "output_type": "stream",
          "name": "stdout",
          "text": [
            "File loaded: 1000 samples.\n",
            "Number of columns:  37\n",
            "time: 30.4 ms (started: 2022-12-06 19:23:32 +00:00)\n"
          ]
        }
      ]
    },
    {
      "cell_type": "code",
      "source": [
        "X_all = df.iloc[:,:35]\n",
        "classification_y_all = df['num_collisions']\n",
        "regression_y_all = df['min_CPA']\n",
        "\n",
        "\n",
        "#apply normalization\n",
        "X_normalized = X_all.copy()\n",
        "for column in X_normalized.columns:\n",
        "  X_normalized[column] = (X_normalized[column] - X_normalized[column].min()) / (X_normalized[column].max() - X_normalized[column].min())    \n",
        "\n",
        "\n",
        "reg_y_all_normalized = regression_y_all.copy()\n",
        "reg_y_all_normalized = (reg_y_all_normalized - reg_y_all_normalized.min()) / (reg_y_all_normalized.max() - reg_y_all_normalized.min())    \n"
      ],
      "metadata": {
        "colab": {
          "base_uri": "https://localhost:8080/"
        },
        "id": "iWrbrD2rfR8y",
        "outputId": "8b0a95d9-8b21-4cd2-87b5-902232585aa6"
      },
      "execution_count": 277,
      "outputs": [
        {
          "output_type": "stream",
          "name": "stdout",
          "text": [
            "time: 53.2 ms (started: 2022-12-06 19:23:34 +00:00)\n"
          ]
        }
      ]
    },
    {
      "cell_type": "markdown",
      "source": [
        "#Divisione del dataset normalizzato in train set e training set"
      ],
      "metadata": {
        "id": "GSglwcw9fU7d"
      }
    },
    {
      "cell_type": "code",
      "source": [
        "from sklearn.model_selection import train_test_split\n",
        "\n",
        "\n",
        "x_train, x_test, y_train, y_test = train_test_split(X_normalized,classification_y_all,train_size=0.66,random_state=200)\n",
        "\n",
        "print(\"Dataset x train :\", x_train.shape)\n",
        "print(\"Dataset y train :\", y_train.shape)\n",
        "print(\"Dataset x test :\", x_test.shape)\n",
        "print(\"Dataset y test :\", y_test.shape)"
      ],
      "metadata": {
        "colab": {
          "base_uri": "https://localhost:8080/"
        },
        "id": "x6_piHbNfWUV",
        "outputId": "6b063b1d-45d4-4f26-dfc3-8e3e862358f8"
      },
      "execution_count": 264,
      "outputs": [
        {
          "output_type": "stream",
          "name": "stdout",
          "text": [
            "Dataset x train : (660, 35)\n",
            "Dataset y train : (660,)\n",
            "Dataset x test : (340, 35)\n",
            "Dataset y test : (340,)\n",
            "time: 11.3 ms (started: 2022-12-06 19:22:28 +00:00)\n"
          ]
        }
      ]
    },
    {
      "cell_type": "markdown",
      "source": [
        "#DT E RANDOM FORESt Su NON BILANCIATO"
      ],
      "metadata": {
        "id": "K6PJwITxfa8O"
      }
    },
    {
      "cell_type": "code",
      "source": [
        "from sklearn import tree\n",
        "from sklearn.metrics import accuracy_score"
      ],
      "metadata": {
        "colab": {
          "base_uri": "https://localhost:8080/"
        },
        "id": "4bv_KqBmfloG",
        "outputId": "9eeeb5b0-86a0-496d-c3dc-a8135ec98f39"
      },
      "execution_count": 278,
      "outputs": [
        {
          "output_type": "stream",
          "name": "stdout",
          "text": [
            "time: 1.1 ms (started: 2022-12-06 19:24:27 +00:00)\n"
          ]
        }
      ]
    },
    {
      "cell_type": "code",
      "source": [
        "dt_clf = tree.DecisionTreeClassifier(max_depth=10)\n",
        "dt_clf.fit(x_train, y_train)\n"
      ],
      "metadata": {
        "colab": {
          "base_uri": "https://localhost:8080/"
        },
        "id": "ltjiQviefgc4",
        "outputId": "1b16441c-b497-47ee-90d9-c3ce9f4aac67"
      },
      "execution_count": 279,
      "outputs": [
        {
          "output_type": "execute_result",
          "data": {
            "text/plain": [
              "DecisionTreeClassifier(max_depth=10)"
            ]
          },
          "metadata": {},
          "execution_count": 279
        },
        {
          "output_type": "stream",
          "name": "stdout",
          "text": [
            "time: 39.5 ms (started: 2022-12-06 19:24:28 +00:00)\n"
          ]
        }
      ]
    },
    {
      "cell_type": "code",
      "source": [
        "y_pred = dt_clf.predict(x_test)\n",
        "accuracy_score(y_test,y_pred)"
      ],
      "metadata": {
        "colab": {
          "base_uri": "https://localhost:8080/"
        },
        "id": "ae_EO13sfjZs",
        "outputId": "8d793d2f-9e6d-4fc8-da32-ab68a29485a8"
      },
      "execution_count": 280,
      "outputs": [
        {
          "output_type": "execute_result",
          "data": {
            "text/plain": [
              "0.4264705882352941"
            ]
          },
          "metadata": {},
          "execution_count": 280
        },
        {
          "output_type": "stream",
          "name": "stdout",
          "text": [
            "time: 12.5 ms (started: 2022-12-06 19:24:29 +00:00)\n"
          ]
        }
      ]
    },
    {
      "cell_type": "code",
      "source": [
        "report = classification_report(y_test,y_pred)\n",
        "confusion = confusion_matrix(y_test,y_pred)\n",
        "displ = ConfusionMatrixDisplay(confusion)\n",
        "\n",
        "print(report)\n",
        "displ.plot()"
      ],
      "metadata": {
        "colab": {
          "base_uri": "https://localhost:8080/",
          "height": 522
        },
        "id": "JZWq38dBfkvL",
        "outputId": "e3b7dd67-f31d-4fb3-f47a-8d414f729e6e"
      },
      "execution_count": 281,
      "outputs": [
        {
          "output_type": "stream",
          "name": "stdout",
          "text": [
            "              precision    recall  f1-score   support\n",
            "\n",
            "           0       0.56      0.57      0.56       181\n",
            "           1       0.32      0.35      0.33       107\n",
            "           2       0.15      0.14      0.14        36\n",
            "           3       0.00      0.00      0.00        14\n",
            "           4       0.00      0.00      0.00         2\n",
            "\n",
            "    accuracy                           0.43       340\n",
            "   macro avg       0.21      0.21      0.21       340\n",
            "weighted avg       0.41      0.43      0.42       340\n",
            "\n"
          ]
        },
        {
          "output_type": "execute_result",
          "data": {
            "text/plain": [
              "<sklearn.metrics._plot.confusion_matrix.ConfusionMatrixDisplay at 0x7f6bf38649d0>"
            ]
          },
          "metadata": {},
          "execution_count": 281
        },
        {
          "output_type": "display_data",
          "data": {
            "text/plain": [
              "<Figure size 432x288 with 2 Axes>"
            ],
            "image/png": "[encoded data removed]"
          },
          "metadata": {
            "needs_background": "light"
          }
        },
        {
          "output_type": "stream",
          "name": "stdout",
          "text": [
            "time: 250 ms (started: 2022-12-06 19:24:31 +00:00)\n"
          ]
        }
      ]
    },
    {
      "cell_type": "code",
      "source": [
        "from sklearn.ensemble import RandomForestClassifier"
      ],
      "metadata": {
        "colab": {
          "base_uri": "https://localhost:8080/"
        },
        "id": "FPXqolTSf1oF",
        "outputId": "7e5a4a62-c688-41f6-f7f5-b47a6efd371a"
      },
      "execution_count": 282,
      "outputs": [
        {
          "output_type": "stream",
          "name": "stdout",
          "text": [
            "time: 725 µs (started: 2022-12-06 19:24:34 +00:00)\n"
          ]
        }
      ]
    },
    {
      "cell_type": "code",
      "source": [
        "clf_randomforest = RandomForestClassifier(random_state=0,max_depth=10, n_estimators=10)\n",
        "clf_randomforest.fit(x_train, y_train)"
      ],
      "metadata": {
        "colab": {
          "base_uri": "https://localhost:8080/"
        },
        "id": "qFGka9qkf3S-",
        "outputId": "63fdce66-1999-4f51-8240-5e067b873895"
      },
      "execution_count": 283,
      "outputs": [
        {
          "output_type": "execute_result",
          "data": {
            "text/plain": [
              "RandomForestClassifier(max_depth=10, n_estimators=10, random_state=0)"
            ]
          },
          "metadata": {},
          "execution_count": 283
        },
        {
          "output_type": "stream",
          "name": "stdout",
          "text": [
            "time: 49.4 ms (started: 2022-12-06 19:24:36 +00:00)\n"
          ]
        }
      ]
    },
    {
      "cell_type": "code",
      "source": [
        "y_pred = clf_randomforest.predict(x_test)\n",
        "print(\"Accuracy: \",accuracy_score(y_test,y_pred))"
      ],
      "metadata": {
        "colab": {
          "base_uri": "https://localhost:8080/"
        },
        "id": "66J2T2kbf5HO",
        "outputId": "340ad9e8-692e-4067-cb5f-80c89702e728"
      },
      "execution_count": 284,
      "outputs": [
        {
          "output_type": "stream",
          "name": "stdout",
          "text": [
            "Accuracy:  0.47058823529411764\n",
            "time: 9.44 ms (started: 2022-12-06 19:24:38 +00:00)\n"
          ]
        }
      ]
    },
    {
      "cell_type": "code",
      "source": [
        "report = classification_report(y_test,y_pred)\n",
        "confusion = confusion_matrix(y_test,y_pred)\n",
        "displ = ConfusionMatrixDisplay(confusion)\n",
        "\n",
        "print(report)\n",
        "displ.plot()\n"
      ],
      "metadata": {
        "colab": {
          "base_uri": "https://localhost:8080/",
          "height": 626
        },
        "id": "xI9T-N5kf6Yf",
        "outputId": "ceb82a1c-6590-4139-c09e-64569f3a969b"
      },
      "execution_count": 285,
      "outputs": [
        {
          "output_type": "stream",
          "name": "stdout",
          "text": [
            "              precision    recall  f1-score   support\n",
            "\n",
            "           0       0.53      0.73      0.61       181\n",
            "           1       0.31      0.25      0.28       107\n",
            "           2       0.00      0.00      0.00        36\n",
            "           3       0.00      0.00      0.00        14\n",
            "           4       0.00      0.00      0.00         2\n",
            "\n",
            "    accuracy                           0.47       340\n",
            "   macro avg       0.17      0.20      0.18       340\n",
            "weighted avg       0.38      0.47      0.41       340\n",
            "\n"
          ]
        },
        {
          "output_type": "stream",
          "name": "stderr",
          "text": [
            "/usr/local/lib/python3.8/dist-packages/sklearn/metrics/_classification.py:1318: UndefinedMetricWarning: Precision and F-score are ill-defined and being set to 0.0 in labels with no predicted samples. Use `zero_division` parameter to control this behavior.\n",
            "  _warn_prf(average, modifier, msg_start, len(result))\n",
            "/usr/local/lib/python3.8/dist-packages/sklearn/metrics/_classification.py:1318: UndefinedMetricWarning: Precision and F-score are ill-defined and being set to 0.0 in labels with no predicted samples. Use `zero_division` parameter to control this behavior.\n",
            "  _warn_prf(average, modifier, msg_start, len(result))\n",
            "/usr/local/lib/python3.8/dist-packages/sklearn/metrics/_classification.py:1318: UndefinedMetricWarning: Precision and F-score are ill-defined and being set to 0.0 in labels with no predicted samples. Use `zero_division` parameter to control this behavior.\n",
            "  _warn_prf(average, modifier, msg_start, len(result))\n"
          ]
        },
        {
          "output_type": "execute_result",
          "data": {
            "text/plain": [
              "<sklearn.metrics._plot.confusion_matrix.ConfusionMatrixDisplay at 0x7f6bf30551f0>"
            ]
          },
          "metadata": {},
          "execution_count": 285
        },
        {
          "output_type": "display_data",
          "data": {
            "text/plain": [
              "<Figure size 432x288 with 2 Axes>"
            ],
            "image/png": "[encoded data removed]"
          },
          "metadata": {
            "needs_background": "light"
          }
        },
        {
          "output_type": "stream",
          "name": "stdout",
          "text": [
            "time: 253 ms (started: 2022-12-06 19:24:41 +00:00)\n"
          ]
        }
      ]
    },
    {
      "cell_type": "markdown",
      "source": [
        "#Bilanciamento del Dataset"
      ],
      "metadata": {
        "id": "O9Dpo6fOgIza"
      }
    },
    {
      "cell_type": "code",
      "source": [
        "from imblearn.over_sampling import SMOTE \n",
        "import matplotlib.pyplot as plt\n",
        "sm = SMOTE(random_state=42, k_neighbors=2)\n",
        "X_res, y_res = sm.fit_resample(X_normalized, classification_y_all)"
      ],
      "metadata": {
        "colab": {
          "base_uri": "https://localhost:8080/"
        },
        "id": "_N3D_PLsgbmW",
        "outputId": "56676547-2d75-4b27-c2c6-9eac5ab4dfb2"
      },
      "execution_count": 286,
      "outputs": [
        {
          "output_type": "stream",
          "name": "stdout",
          "text": [
            "time: 39.4 ms (started: 2022-12-06 19:24:44 +00:00)\n"
          ]
        }
      ]
    },
    {
      "cell_type": "code",
      "source": [
        "occorrenze_collisioni = y_res.value_counts()\n",
        "fig,ax = plt.subplots()\n",
        "\n",
        "ax.bar(x=['0','1 ','2 ','3','4'],height=occorrenze_collisioni,width=0.5, color = ['red','green','blue','yellow','purple'])\n",
        "ax.set_xlabel (\"Number of collisions\")\n",
        "ax.set_ylabel (\"Number of samples\")\n",
        "ax.set_title('Dataset distibution over the number of collisions (resampled)')"
      ],
      "metadata": {
        "colab": {
          "base_uri": "https://localhost:8080/",
          "height": 330
        },
        "id": "1DBTdU2bgdRf",
        "outputId": "126ecf6c-08b5-4e4a-e188-ea903340f9ad"
      },
      "execution_count": 287,
      "outputs": [
        {
          "output_type": "execute_result",
          "data": {
            "text/plain": [
              "Text(0.5, 1.0, 'Dataset distibution over the number of collisions (resampled)')"
            ]
          },
          "metadata": {},
          "execution_count": 287
        },
        {
          "output_type": "display_data",
          "data": {
            "text/plain": [
              "<Figure size 432x288 with 1 Axes>"
            ],
            "image/png": "[encoded data removed]"
          },
          "metadata": {
            "needs_background": "light"
          }
        },
        {
          "output_type": "stream",
          "name": "stdout",
          "text": [
            "time: 153 ms (started: 2022-12-06 19:24:49 +00:00)\n"
          ]
        }
      ]
    },
    {
      "cell_type": "code",
      "source": [
        "from sklearn.utils import shuffle\n",
        "\n",
        "indexes = np.arange(X_res.shape[0])\n",
        "shuffled_indexes = shuffle(indexes)\n",
        "\n",
        "\n",
        "X_balanced = X_res.to_numpy()[shuffled_indexes]\n",
        "y_balanced = y_res.to_numpy()[shuffled_indexes]"
      ],
      "metadata": {
        "colab": {
          "base_uri": "https://localhost:8080/"
        },
        "id": "1_kREEFQgfBV",
        "outputId": "5700029d-6752-4134-a271-4bee1c511694"
      },
      "execution_count": 288,
      "outputs": [
        {
          "output_type": "stream",
          "name": "stdout",
          "text": [
            "time: 4.59 ms (started: 2022-12-06 19:24:54 +00:00)\n"
          ]
        }
      ]
    },
    {
      "cell_type": "code",
      "source": [
        "x_train_balanced, x_test_balanced, y_train_balanced, y_test_balanced = train_test_split(X_balanced,y_balanced,train_size=0.66,random_state=200)\n",
        "print(\"Balanced Dataset x train :\", x_train_balanced.shape)\n",
        "print(\"Balanced Dataset y train :\", y_train_balanced.shape)\n",
        "print(\"Balanced Dataset x test :\", x_test_balanced.shape)\n",
        "print(\"Balanced Dataset y test :\", y_test_balanced.shape)"
      ],
      "metadata": {
        "colab": {
          "base_uri": "https://localhost:8080/"
        },
        "id": "7q849yvKgixH",
        "outputId": "57c033ac-55c0-49b6-b173-0b327f5f6ca1"
      },
      "execution_count": 289,
      "outputs": [
        {
          "output_type": "stream",
          "name": "stdout",
          "text": [
            "Balanced Dataset x train : (1775, 35)\n",
            "Balanced Dataset y train : (1775,)\n",
            "Balanced Dataset x test : (915, 35)\n",
            "Balanced Dataset y test : (915,)\n",
            "time: 13.8 ms (started: 2022-12-06 19:25:07 +00:00)\n"
          ]
        }
      ]
    },
    {
      "cell_type": "code",
      "source": [
        "def setdiff_nd_positivenums_searchsorted(a,b):\n",
        "    s = np.maximum(a.max(0)+1,b.max(0)+1)\n",
        "    a1D,b1D = a.dot(s),b.dot(s)\n",
        "    b1Ds = np.sort(b1D)\n",
        "    return a[b1Ds[np.searchsorted(b1Ds,a1D)] != a1D]"
      ],
      "metadata": {
        "colab": {
          "base_uri": "https://localhost:8080/"
        },
        "id": "d4NZVG6wnCgS",
        "outputId": "0d971e0c-3993-49ed-fa41-6c6de2fa899b"
      },
      "execution_count": 273,
      "outputs": [
        {
          "output_type": "stream",
          "name": "stdout",
          "text": [
            "time: 1.68 ms (started: 2022-12-06 19:23:09 +00:00)\n"
          ]
        }
      ]
    },
    {
      "cell_type": "code",
      "source": [
        "intersezione = setdiff_nd_positivenums_searchsorted(x_test,x_train_balanced)"
      ],
      "metadata": {
        "colab": {
          "base_uri": "https://localhost:8080/"
        },
        "id": "f8TQNVtIk7VE",
        "outputId": "787cccf4-756d-4df7-8cf7-3aa2c61ddc99"
      },
      "execution_count": 291,
      "outputs": [
        {
          "output_type": "stream",
          "name": "stdout",
          "text": [
            "time: 5.64 ms (started: 2022-12-06 19:25:25 +00:00)\n"
          ]
        }
      ]
    },
    {
      "cell_type": "code",
      "source": [
        "indici = intersezione.T.head(1).T"
      ],
      "metadata": {
        "colab": {
          "base_uri": "https://localhost:8080/"
        },
        "id": "3WetUCRQo5he",
        "outputId": "74cad5d2-5cb1-4af2-9c18-154ecad8d26b"
      },
      "execution_count": 292,
      "outputs": [
        {
          "output_type": "stream",
          "name": "stdout",
          "text": [
            "time: 2.37 ms (started: 2022-12-06 19:25:27 +00:00)\n"
          ]
        }
      ]
    },
    {
      "cell_type": "code",
      "source": [
        "idx_df = pd.DataFrame()\n",
        "idx_df['indici'] = indici.index"
      ],
      "metadata": {
        "colab": {
          "base_uri": "https://localhost:8080/"
        },
        "id": "Gc7zxXPvzLU5",
        "outputId": "0527bb37-8bff-4884-d8de-caa74e6c63b8"
      },
      "execution_count": 293,
      "outputs": [
        {
          "output_type": "stream",
          "name": "stdout",
          "text": [
            "time: 4.43 ms (started: 2022-12-06 19:25:29 +00:00)\n"
          ]
        }
      ]
    },
    {
      "cell_type": "code",
      "source": [
        "idx_criminali = idx_df.to_numpy().reshape(-1,1).squeeze()\n",
        "print(idx_criminali.shape)"
      ],
      "metadata": {
        "colab": {
          "base_uri": "https://localhost:8080/"
        },
        "id": "RXQnkio90CcX",
        "outputId": "8c75a74d-cff7-47ce-bfd6-0695eb3d7c68"
      },
      "execution_count": 294,
      "outputs": [
        {
          "output_type": "stream",
          "name": "stdout",
          "text": [
            "(214,)\n",
            "time: 2.16 ms (started: 2022-12-06 19:25:32 +00:00)\n"
          ]
        }
      ]
    },
    {
      "cell_type": "code",
      "source": [
        "#Bisogna eliminare da x_train_balanced l'intersezione\n",
        "new_x_train_balanced = np.delete(x_train_balanced,idx_criminali,axis=0)\n",
        "new_y_train_balanced = np.delete(y_train_balanced,idx_criminali,axis=0)"
      ],
      "metadata": {
        "colab": {
          "base_uri": "https://localhost:8080/"
        },
        "id": "mKzIt4oDsyWb",
        "outputId": "643424b1-fbd8-43a4-fe0e-c09ccd5e4a6f"
      },
      "execution_count": 295,
      "outputs": [
        {
          "output_type": "stream",
          "name": "stdout",
          "text": [
            "time: 2.79 ms (started: 2022-12-06 19:25:36 +00:00)\n"
          ]
        }
      ]
    },
    {
      "cell_type": "code",
      "source": [
        "print(new_x_train_balanced.shape)\n",
        "print(new_y_train_balanced.shape)"
      ],
      "metadata": {
        "colab": {
          "base_uri": "https://localhost:8080/"
        },
        "id": "VdluIy_mqrVs",
        "outputId": "099459aa-2fa0-4163-8858-cd1c802c81ff"
      },
      "execution_count": 296,
      "outputs": [
        {
          "output_type": "stream",
          "name": "stdout",
          "text": [
            "(1561, 35)\n",
            "(1561,)\n",
            "time: 1.76 ms (started: 2022-12-06 19:25:45 +00:00)\n"
          ]
        }
      ]
    },
    {
      "cell_type": "markdown",
      "source": [
        "#Vedere la nuova distribuzione"
      ],
      "metadata": {
        "id": "nPasqBQK7tFK"
      }
    },
    {
      "cell_type": "code",
      "source": [
        "occorrenze_collisioni = pd.Series(new_y_train_balanced).value_counts()\n",
        "fig,ax = plt.subplots()\n",
        "ax.bar(x=['0','1 ','2 ','3','4'],height=occorrenze_collisioni,width=0.5, color = ['red','green','blue','yellow','purple'])\n",
        "ax.set_xlabel (\"Number of collisions\")\n",
        "ax.set_ylabel (\"Number of samples\")\n",
        "ax.set_title('Dataset distibution over the number of collisions (resampled pt 2)')"
      ],
      "metadata": {
        "colab": {
          "base_uri": "https://localhost:8080/",
          "height": 330
        },
        "id": "eMZ3zpVa7wkQ",
        "outputId": "20096842-5665-4eb6-dd00-aab470e7a983"
      },
      "execution_count": 315,
      "outputs": [
        {
          "output_type": "execute_result",
          "data": {
            "text/plain": [
              "Text(0.5, 1.0, 'Dataset distibution over the number of collisions (resampled pt 2)')"
            ]
          },
          "metadata": {},
          "execution_count": 315
        },
        {
          "output_type": "display_data",
          "data": {
            "text/plain": [
              "<Figure size 432x288 with 1 Axes>"
            ],
            "image/png": "[encoded data removed]"
          },
          "metadata": {
            "needs_background": "light"
          }
        },
        {
          "output_type": "stream",
          "name": "stdout",
          "text": [
            "time: 267 ms (started: 2022-12-06 19:38:25 +00:00)\n"
          ]
        }
      ]
    },
    {
      "cell_type": "code",
      "source": [
        "from sklearn.ensemble import RandomForestClassifier\n",
        "from sklearn.metrics import confusion_matrix, classification_report, ConfusionMatrixDisplay\n",
        "from sklearn.metrics import accuracy_score\n",
        "\n",
        "clf_randomforest = RandomForestClassifier(random_state=0,max_depth=10, n_estimators=10)\n",
        "clf_randomforest.fit(new_x_train_balanced, new_y_train_balanced)"
      ],
      "metadata": {
        "colab": {
          "base_uri": "https://localhost:8080/"
        },
        "id": "0Z0RIaPM1efA",
        "outputId": "60ac6b96-71d9-4010-d34f-c7e17e619e09"
      },
      "execution_count": 318,
      "outputs": [
        {
          "output_type": "execute_result",
          "data": {
            "text/plain": [
              "RandomForestClassifier(max_depth=10, n_estimators=10, random_state=0)"
            ]
          },
          "metadata": {},
          "execution_count": 318
        },
        {
          "output_type": "stream",
          "name": "stdout",
          "text": [
            "time: 73.3 ms (started: 2022-12-06 20:02:09 +00:00)\n"
          ]
        }
      ]
    },
    {
      "cell_type": "code",
      "source": [
        "y_pred = clf_randomforest.predict(x_test)\n",
        "print(\"Accuracy: \",accuracy_score(y_test,y_pred))"
      ],
      "metadata": {
        "colab": {
          "base_uri": "https://localhost:8080/"
        },
        "id": "fFeFFXvo10sw",
        "outputId": "c27befca-2a2e-4b68-ad56-1f8a8b44b351"
      },
      "execution_count": 320,
      "outputs": [
        {
          "output_type": "stream",
          "name": "stdout",
          "text": [
            "Accuracy:  0.8058823529411765\n",
            "time: 13 ms (started: 2022-12-06 20:02:14 +00:00)\n"
          ]
        },
        {
          "output_type": "stream",
          "name": "stderr",
          "text": [
            "/usr/local/lib/python3.8/dist-packages/sklearn/base.py:443: UserWarning: X has feature names, but RandomForestClassifier was fitted without feature names\n",
            "  warnings.warn(\n"
          ]
        }
      ]
    },
    {
      "cell_type": "code",
      "source": [
        "report = classification_report(y_test,y_pred)\n",
        "confusion = confusion_matrix(y_test,y_pred)\n",
        "displ = ConfusionMatrixDisplay(confusion)\n",
        "\n",
        "print(report)\n",
        "displ.plot()\n"
      ],
      "metadata": {
        "colab": {
          "base_uri": "https://localhost:8080/",
          "height": 522
        },
        "id": "HWo5bQoC15Yl",
        "outputId": "583728fc-9bf7-49f3-f2e2-2e3e74a4c822"
      },
      "execution_count": 321,
      "outputs": [
        {
          "output_type": "stream",
          "name": "stdout",
          "text": [
            "              precision    recall  f1-score   support\n",
            "\n",
            "           0       0.88      0.75      0.81       181\n",
            "           1       0.72      0.84      0.78       107\n",
            "           2       0.73      0.92      0.81        36\n",
            "           3       0.93      0.93      0.93        14\n",
            "           4       1.00      1.00      1.00         2\n",
            "\n",
            "    accuracy                           0.81       340\n",
            "   macro avg       0.85      0.89      0.87       340\n",
            "weighted avg       0.82      0.81      0.81       340\n",
            "\n"
          ]
        },
        {
          "output_type": "execute_result",
          "data": {
            "text/plain": [
              "<sklearn.metrics._plot.confusion_matrix.ConfusionMatrixDisplay at 0x7f6bfa5e7760>"
            ]
          },
          "metadata": {},
          "execution_count": 321
        },
        {
          "output_type": "display_data",
          "data": {
            "text/plain": [
              "<Figure size 432x288 with 2 Axes>"
            ],
            "image/png": "[encoded data removed]"
          },
          "metadata": {
            "needs_background": "light"
          }
        },
        {
          "output_type": "stream",
          "name": "stdout",
          "text": [
            "time: 250 ms (started: 2022-12-06 20:02:23 +00:00)\n"
          ]
        }
      ]
    }
  ]
}